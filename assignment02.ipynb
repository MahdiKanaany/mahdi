{
 "cells": [
  {
   "cell_type": "markdown",
   "id": "47c2ac0e",
   "metadata": {},
   "source": [
    "# Assignment #2"
   ]
  },
  {
   "cell_type": "markdown",
   "id": "45248dc2",
   "metadata": {},
   "source": [
    "## Task 1\n",
    "\n",
    "The numbers in the table below are the result of executing an algorithm that has one parameter N, a non-negative integer, and produces sequences of integers as outputs. For values of N from 0 to 5, the algorithm produces the following sequences of numbers as outputs.\n",
    "\n",
    "![title](img/algorithm.png)\n",
    "\n",
    "Write a function which can produce the same results given any non-negative integer N."
   ]
  },
  {
   "cell_type": "code",
   "execution_count": 1,
   "id": "016a28c0",
   "metadata": {},
   "outputs": [],
   "source": [
    "def alg(n):\n",
    "    z = (n + 1) * 2\n",
    "    s = ''\n",
    "    first = n*3\n",
    "    for i in range(1,z+1):\n",
    "        s+=str(first)\n",
    "        s+='|'\n",
    "        first+=2\n",
    "    return(s)"
   ]
  },
  {
   "cell_type": "markdown",
   "id": "463b4294-ee29-4c0e-b880-8659449a325e",
   "metadata": {},
   "source": [
    "Using a list instead of string:"
   ]
  },
  {
   "cell_type": "code",
   "execution_count": 2,
   "id": "7fd93028-2ee2-4583-af9c-eae7024939d1",
   "metadata": {},
   "outputs": [],
   "source": [
    "def alg(n):\n",
    "    z = (n + 1) * 2\n",
    "    my_list = []\n",
    "    first = n*3\n",
    "    for i in range(z):\n",
    "        my_list.append(first)\n",
    "        first+=2\n",
    "    return(my_list)"
   ]
  },
  {
   "cell_type": "markdown",
   "id": "db62e3b9",
   "metadata": {},
   "source": [
    "Test your function for N=7"
   ]
  },
  {
   "cell_type": "code",
   "execution_count": 3,
   "id": "24627c3b",
   "metadata": {},
   "outputs": [
    {
     "name": "stdout",
     "output_type": "stream",
     "text": [
      "[21, 23, 25, 27, 29, 31, 33, 35, 37, 39, 41, 43, 45, 47, 49, 51]\n"
     ]
    }
   ],
   "source": [
    "print(alg(7))"
   ]
  },
  {
   "cell_type": "markdown",
   "id": "e42eff99",
   "metadata": {},
   "source": [
    "## Task 2\n",
    "\n",
    "The numbers in the table below are the result of executing an algorithm that has one parameter N, a non-negative integer, and produces sequences of integers as outputs. For values of N from 0 to 5, the algorithm produces the following sequences of numbers as outputs.\n",
    "\n",
    "![title](img/algorithm2.png)\n",
    "\n",
    "Write a function which can produce the same results given any non-negative integer N."
   ]
  },
  {
   "cell_type": "code",
   "execution_count": 4,
   "id": "90c216c1",
   "metadata": {},
   "outputs": [],
   "source": [
    "def mazrab_2(n):\n",
    "    if(n%2==0):\n",
    "        return True"
   ]
  },
  {
   "cell_type": "code",
   "execution_count": 5,
   "id": "45afe2f1",
   "metadata": {},
   "outputs": [],
   "source": [
    "def alg2(n):\n",
    "    if(n==0):\n",
    "        return ''\n",
    "    elif(n==1):\n",
    "        return '01'\n",
    "    else:\n",
    "        s = ''\n",
    "        for i in range(0,n*2):\n",
    "            if(mazrab_2(i)):\n",
    "                s+=str(i)\n",
    "                s+='|'\n",
    "        start = n\n",
    "        for char in s:\n",
    "            if(char=='|'):\n",
    "                continue\n",
    "            s+=str(start)\n",
    "            s+='|'\n",
    "            start+=1\n",
    "        return(s)           "
   ]
  },
  {
   "cell_type": "markdown",
   "id": "b660ddd0",
   "metadata": {},
   "source": [
    "Test your function for N=7"
   ]
  },
  {
   "cell_type": "code",
   "execution_count": 6,
   "id": "39597da4-ff7a-462a-a7c9-f1c9c6b98fd0",
   "metadata": {},
   "outputs": [
    {
     "name": "stdout",
     "output_type": "stream",
     "text": [
      "0|2|4|6|8|10|12|7|8|9|10|11|12|13|14|15|\n"
     ]
    }
   ],
   "source": [
    "print(alg2(7))"
   ]
  },
  {
   "cell_type": "markdown",
   "id": "a82f83a3-e8a5-494b-9211-a4da1fb3a23b",
   "metadata": {},
   "source": [
    "Write the algorithm with hand and find what is the correct answer for n = 7.\n",
    "- Is you code giving the correct answer?\n",
    "- Do you know why you code produces a wrong answer for n >= 6 ?\n",
    "- How can you fix it?"
   ]
  },
  {
   "cell_type": "markdown",
   "id": "0348e900-53ac-4621-8bef-8d1fec09d1a5",
   "metadata": {},
   "source": [
    "Another implementation:"
   ]
  },
  {
   "cell_type": "code",
   "execution_count": 7,
   "id": "1494863b-aab3-4697-90fb-884912ea768f",
   "metadata": {},
   "outputs": [],
   "source": [
    "def alg2(n):\n",
    "    l1= []\n",
    "    l2= []\n",
    "    for i in range(n):\n",
    "        l1.append(i*2)\n",
    "        l2.append(n+i)\n",
    "    return l1+l2"
   ]
  },
  {
   "cell_type": "code",
   "execution_count": 8,
   "id": "f022c13e",
   "metadata": {},
   "outputs": [
    {
     "name": "stdout",
     "output_type": "stream",
     "text": [
      "[0, 2, 4, 6, 8, 10, 12, 7, 8, 9, 10, 11, 12, 13]\n"
     ]
    }
   ],
   "source": [
    "print(alg2(7))"
   ]
  },
  {
   "cell_type": "markdown",
   "id": "414deccc",
   "metadata": {},
   "source": [
    "## Task 3\n",
    "\n",
    "The numbers in the table below are the result of executing an algorithm that has one parameter N, a non-negative integer, and produces sequences of integers as outputs. For values of N from 0 to 5, the algorithm produces the following sequences of numbers as outputs\n",
    "\n",
    "![title](img/algorithm3.png)\n",
    "\n",
    "Write a function which can produce the same results given any non-negative integer N."
   ]
  },
  {
   "cell_type": "code",
   "execution_count": 9,
   "id": "1aba78d8",
   "metadata": {},
   "outputs": [],
   "source": [
    "def alg3(n):\n",
    "    a = -n*n\n",
    "    plus = 1\n",
    "    s = ''\n",
    "    for i in range(1,n*3+1):\n",
    "        s+=str(a)\n",
    "        s+='|'\n",
    "        a+=plus\n",
    "        plus+=2\n",
    "    return(s)"
   ]
  },
  {
   "cell_type": "markdown",
   "id": "cb5ba163",
   "metadata": {},
   "source": [
    "Test your function for N=7"
   ]
  },
  {
   "cell_type": "code",
   "execution_count": 10,
   "id": "03fe7db7",
   "metadata": {},
   "outputs": [
    {
     "name": "stdout",
     "output_type": "stream",
     "text": [
      "-49|-48|-45|-40|-33|-24|-13|0|15|32|51|72|95|120|147|176|207|240|275|312|351|\n"
     ]
    }
   ],
   "source": [
    "print(alg3(7))"
   ]
  },
  {
   "cell_type": "markdown",
   "id": "4e27a761",
   "metadata": {},
   "source": [
    "## Task 4\n",
    "\n",
    "1. Familiarize yourself with [cartesian coordinate system](https://en.wikipedia.org/wiki/Cartesian_coordinate_system)\n",
    "2. Familiarize yourself with [Euclidean distance](https://en.wikipedia.org/wiki/Euclidean_distance)\n",
    "3. Write a function which gets two points as input and returns the euclidean ditance. The points can be represented as tuples. For example, running the following code should return 5  \n",
    "    ```\n",
    "    p1 = (1,4)\n",
    "    p2 = (4,8)\n",
    "    your_function(p1,p2)\n",
    "    ```"
   ]
  },
  {
   "cell_type": "code",
   "execution_count": 11,
   "id": "8014ec96",
   "metadata": {},
   "outputs": [],
   "source": [
    "import math"
   ]
  },
  {
   "cell_type": "code",
   "execution_count": 12,
   "id": "b3800da2",
   "metadata": {},
   "outputs": [],
   "source": [
    "def Euclidean_distance(p1,p2):\n",
    "    a = (p2[0]-p1[0])**2 + (p2[1]-p1[1])**2\n",
    "    return(math.sqrt(a))"
   ]
  },
  {
   "cell_type": "markdown",
   "id": "888bba25",
   "metadata": {},
   "source": [
    "Test you function with points (0,5) and (-11,7)"
   ]
  },
  {
   "cell_type": "code",
   "execution_count": 13,
   "id": "9e976110",
   "metadata": {},
   "outputs": [
    {
     "name": "stdout",
     "output_type": "stream",
     "text": [
      "11.180339887498949\n"
     ]
    }
   ],
   "source": [
    "p1 = (0,5)\n",
    "p2 = (-11,7)\n",
    "print(Euclidean_distance(p1,p2))"
   ]
  },
  {
   "cell_type": "markdown",
   "id": "536a930a",
   "metadata": {},
   "source": [
    "# Task 5 #\n",
    "Write a function which gets a list of points as input and prints the two points with minimum distance and the two point with maximum distance. It should work for any number of points."
   ]
  },
  {
   "cell_type": "code",
   "execution_count": 14,
   "id": "d3b47422",
   "metadata": {},
   "outputs": [],
   "source": [
    "def index(item,input_list):\n",
    "    index = 0\n",
    "    for items in input_list:\n",
    "        if(items==item):\n",
    "            return index\n",
    "        else:\n",
    "            index+=1"
   ]
  },
  {
   "cell_type": "code",
   "execution_count": 15,
   "id": "1f701fca",
   "metadata": {},
   "outputs": [],
   "source": [
    "def list_Euclidean_distance(points_list):\n",
    "    count = 1\n",
    "    smallest_Euclidean_distance = 0\n",
    "    smallest_Euclidean_distance_p1= (0,0)\n",
    "    smallest_Euclidean_distance_p2 = (0,0)\n",
    "    biggest_Euclidean_distance = 0\n",
    "    biggest_Euclidean_distance_p1 = (0,0)\n",
    "    biggest_Euclidean_distance_p2 = (0,0) \n",
    "    for item in points_list:\n",
    "        index_item = index(item,points_list)\n",
    "        my_list = points_list[index_item+1:]\n",
    "        for items in my_list:\n",
    "            p1 = item\n",
    "            p2 = items\n",
    "            Euclidean_distance_p1_p2 = Euclidean_distance(p1,p2)\n",
    "            if(count==1):\n",
    "                smallest_Euclidean_distance = Euclidean_distance_p1_p2\n",
    "                count+=1\n",
    "            if(Euclidean_distance_p1_p2<smallest_Euclidean_distance):\n",
    "                smallest_Euclidean_distance = Euclidean_distance_p1_p2\n",
    "                smallest_Euclidean_distance_p1 = item\n",
    "                smallest_Euclidean_distance_p2 = items\n",
    "            if(Euclidean_distance_p1_p2>biggest_Euclidean_distance):\n",
    "                biggest_Euclidean_distance = Euclidean_distance_p1_p2\n",
    "                biggest_Euclidean_distance_p1 = item\n",
    "                biggest_Euclidean_distance_p2 = items\n",
    "    return('The minimum distance p1 and p2 is',smallest_Euclidean_distance_p1, smallest_Euclidean_distance_p2, \\\n",
    "    'the maximum distance p1 and p2 is',biggest_Euclidean_distance_p1,biggest_Euclidean_distance_p2)"
   ]
  },
  {
   "cell_type": "markdown",
   "id": "5f5dc39e",
   "metadata": {},
   "source": [
    "Test you function with the following list"
   ]
  },
  {
   "cell_type": "code",
   "execution_count": 16,
   "id": "fa95f298",
   "metadata": {},
   "outputs": [
    {
     "name": "stdout",
     "output_type": "stream",
     "text": [
      "('The minimum distance p1 and p2 is', (0, 2), (-1, 4), 'the maximum distance p1 and p2 is', (5, 9), (3, -7))\n"
     ]
    }
   ],
   "source": [
    "l1=[(0,2),(3,7),(5,9),(-1,4),(3,-7),(6,-2),(-4,1)]\n",
    "print(list_Euclidean_distance(l1))\n"
   ]
  },
  {
   "cell_type": "markdown",
   "id": "958e6b08-5ed6-440c-a5c6-af0de52a3dd5",
   "metadata": {},
   "source": [
    "Another implementation:"
   ]
  },
  {
   "cell_type": "code",
   "execution_count": 17,
   "id": "b180f5f8-9755-4a52-b076-38fccac4f884",
   "metadata": {},
   "outputs": [],
   "source": [
    "def find_points(points_list):\n",
    "    s_dis= float('inf')\n",
    "    s_p1= ()\n",
    "    s_p2= ()\n",
    "    b_dis= 0\n",
    "    b_p1= ()\n",
    "    b_p2= ()\n",
    "    n= len(points_list)\n",
    "    for i in range(n):\n",
    "        for j in range(i+1,n):\n",
    "            p1= points_list[i]\n",
    "            p2= points_list[j]\n",
    "            dis= Euclidean_distance(p1,p2)\n",
    "            if dis < s_dis:\n",
    "                s_dis= dis\n",
    "                s_p1= p1\n",
    "                s_p2= p2\n",
    "            if dis > b_dis:\n",
    "                b_dis= dis\n",
    "                b_p1= p1\n",
    "                b_p2= p2\n",
    "    return [[[s_p1,s_p2],s_dis],[[b_p1,b_p2],b_dis]]"
   ]
  },
  {
   "cell_type": "code",
   "execution_count": 18,
   "id": "bbe92e5a-db21-43cc-8c75-cdba8a80872f",
   "metadata": {},
   "outputs": [
    {
     "name": "stdout",
     "output_type": "stream",
     "text": [
      "The minimum distance is  2.23606797749979  between  [(0, 2), (-1, 4)]\n",
      "The maximum distance is  16.1245154965971  between  [(5, 9), (3, -7)]\n"
     ]
    }
   ],
   "source": [
    "l1=[(0,2),(3,7),(5,9),(-1,4),(3,-7),(6,-2),(-4,1)]\n",
    "result= find_points(l1)\n",
    "print(\"The minimum distance is \", result[0][1], \" between \", result[0][0])\n",
    "print(\"The maximum distance is \", result[1][1], \" between \", result[1][0])"
   ]
  }
 ],
 "metadata": {
  "kernelspec": {
   "display_name": "Python 3",
   "language": "python",
   "name": "python3"
  },
  "language_info": {
   "codemirror_mode": {
    "name": "ipython",
    "version": 3
   },
   "file_extension": ".py",
   "mimetype": "text/x-python",
   "name": "python",
   "nbconvert_exporter": "python",
   "pygments_lexer": "ipython3",
   "version": "3.8.8"
  }
 },
 "nbformat": 4,
 "nbformat_minor": 5
}
