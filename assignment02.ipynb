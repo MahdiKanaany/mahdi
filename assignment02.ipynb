{
 "cells": [
  {
   "cell_type": "markdown",
   "metadata": {},
   "source": [
    "# Assignment #2"
   ]
  },
  {
   "cell_type": "markdown",
   "metadata": {},
   "source": [
    "## Task 1\n",
    "\n",
    "The numbers in the table below are the result of executing an algorithm that has one parameter N, a non-negative integer, and produces sequences of integers as outputs. For values of N from 0 to 5, the algorithm produces the following sequences of numbers as outputs.\n",
    "\n",
    "![title](img/algorithm.png)\n",
    "\n",
    "Write a function which can produce the same results given any non-negative integer N."
   ]
  },
  {
   "cell_type": "code",
   "execution_count": 25,
   "metadata": {},
   "outputs": [],
   "source": [
    "def alg(n):\n",
    "    z = (n + 1) * 2\n",
    "    s = ''\n",
    "    first = n*3\n",
    "    for i in range(1,z+1):\n",
    "        s+=str(first)\n",
    "        s+='|'\n",
    "        first+=2\n",
    "    return(s)"
   ]
  },
  {
   "cell_type": "markdown",
   "metadata": {},
   "source": [
    "Test your function for N=7"
   ]
  },
  {
   "cell_type": "code",
   "execution_count": 26,
   "metadata": {},
   "outputs": [
    {
     "name": "stdout",
     "output_type": "stream",
     "text": [
      "21|23|25|27|29|31|33|35|37|39|41|43|45|47|49|51|\n"
     ]
    }
   ],
   "source": [
    "print(alg(7))"
   ]
  },
  {
   "cell_type": "markdown",
   "metadata": {},
   "source": [
    "## Task 2\n",
    "\n",
    "The numbers in the table below are the result of executing an algorithm that has one parameter N, a non-negative integer, and produces sequences of integers as outputs. For values of N from 0 to 5, the algorithm produces the following sequences of numbers as outputs.\n",
    "\n",
    "![title](img/algorithm2.png)\n",
    "\n",
    "Write a function which can produce the same results given any non-negative integer N."
   ]
  },
  {
   "cell_type": "code",
   "execution_count": 3,
   "metadata": {},
   "outputs": [],
   "source": [
    "def mazrab_2(n):\n",
    "    if(n%2==0):\n",
    "        return True"
   ]
  },
  {
   "cell_type": "code",
   "execution_count": 14,
   "metadata": {},
   "outputs": [],
   "source": [
    "def alg2(n):\n",
    "    if(n==0):\n",
    "        return ''\n",
    "    elif(n==1):\n",
    "        return '01'\n",
    "    else:\n",
    "        s = ''\n",
    "        for i in range(0,n*2):\n",
    "            if(mazrab_2(i)):\n",
    "                s+=str(i)\n",
    "                s+='|'\n",
    "        start = n\n",
    "        s_copy = s\n",
    "        for char in s_copy:\n",
    "            print(char)\n",
    "            if(char=='|'):\n",
    "                continue\n",
    "            s+=str(start)\n",
    "            s+='|'\n",
    "            start+=1\n",
    "        return(s) "
   ]
  },
  {
   "cell_type": "markdown",
   "metadata": {},
   "source": [
    "Test your function for N=7"
   ]
  },
  {
   "cell_type": "code",
   "execution_count": 15,
   "metadata": {},
   "outputs": [
    {
     "name": "stdout",
     "output_type": "stream",
     "text": [
      "0\n",
      "|\n",
      "2\n",
      "|\n",
      "4\n",
      "|\n",
      "6\n",
      "|\n",
      "8\n",
      "|\n",
      "1\n",
      "0\n",
      "|\n",
      "1\n",
      "2\n",
      "|\n",
      "0|2|4|6|8|10|12|7|8|9|10|11|12|13|14|15|\n"
     ]
    }
   ],
   "source": [
    "print(alg2(7))"
   ]
  },
  {
   "cell_type": "markdown",
   "metadata": {},
   "source": [
    "## Task 3\n",
    "\n",
    "The numbers in the table below are the result of executing an algorithm that has one parameter N, a non-negative integer, and produces sequences of integers as outputs. For values of N from 0 to 5, the algorithm produces the following sequences of numbers as outputs\n",
    "\n",
    "![title](img/algorithm3.png)\n",
    "\n",
    "Write a function which can produce the same results given any non-negative integer N."
   ]
  },
  {
   "cell_type": "code",
   "execution_count": 18,
   "metadata": {},
   "outputs": [],
   "source": [
    "def alg3(n):\n",
    "    a = -n*n\n",
    "    plus = 1\n",
    "    s = ''\n",
    "    for i in range(1,n*3+1):\n",
    "        s+=str(a)\n",
    "        s+='|'\n",
    "        a+=plus\n",
    "        plus+=2\n",
    "    return(s)"
   ]
  },
  {
   "cell_type": "markdown",
   "metadata": {},
   "source": [
    "Test your function for N=7"
   ]
  },
  {
   "cell_type": "code",
   "execution_count": 19,
   "metadata": {},
   "outputs": [
    {
     "name": "stdout",
     "output_type": "stream",
     "text": [
      "-49|-48|-45|-40|-33|-24|-13|0|15|32|51|72|95|120|147|176|207|240|275|312|351|\n"
     ]
    }
   ],
   "source": [
    "print(alg3(7))"
   ]
  },
  {
   "cell_type": "markdown",
   "metadata": {},
   "source": [
    "## Task 4\n",
    "\n",
    "1. Familiarize yourself with [cartesian coordinate system](https://en.wikipedia.org/wiki/Cartesian_coordinate_system)\n",
    "2. Familiarize yourself with [Euclidean distance](https://en.wikipedia.org/wiki/Euclidean_distance)\n",
    "3. Write a function which gets two points as input and returns the euclidean ditance. The points can be represented as tuples. For example, running the following code should return 5  \n",
    "    ```\n",
    "    p1 = (1,4)\n",
    "    p2 = (4,8)\n",
    "    your_function(p1,p2)\n",
    "    ```"
   ]
  },
  {
   "cell_type": "code",
   "execution_count": 2,
   "metadata": {},
   "outputs": [],
   "source": [
    "import math"
   ]
  },
  {
   "cell_type": "code",
   "execution_count": 3,
   "metadata": {},
   "outputs": [],
   "source": [
    "def Euclidean_distance(p1,p2):\n",
    "    a = (p2[0]-p1[0])**2 + (p2[1]-p1[1])**2\n",
    "    return(math.sqrt(a))"
   ]
  },
  {
   "cell_type": "markdown",
   "metadata": {},
   "source": [
    "Test you function with points (0,5) and (-11,7)"
   ]
  },
  {
   "cell_type": "code",
   "execution_count": 4,
   "metadata": {},
   "outputs": [
    {
     "name": "stdout",
     "output_type": "stream",
     "text": [
      "11.180339887498949\n"
     ]
    }
   ],
   "source": [
    "p1 = (0,5)\n",
    "p2 = (-11,7)\n",
    "print(Euclidean_distance(p1,p2))"
   ]
  },
  {
   "cell_type": "markdown",
   "metadata": {},
   "source": [
    "# Task 5 #\n",
    "Write a function which gets a list of points as input and prints the two points with minimum distance and the two point with maximum distance. It should work for any number of points."
   ]
  },
  {
   "cell_type": "code",
   "execution_count": 5,
   "metadata": {},
   "outputs": [],
   "source": [
    "def index(item,input_list):\n",
    "    index = 0\n",
    "    for items in input_list:\n",
    "        if(items==item):\n",
    "            return index\n",
    "        else:\n",
    "            index+=1"
   ]
  },
  {
   "cell_type": "code",
   "execution_count": 6,
   "metadata": {},
   "outputs": [],
   "source": [
    "def list_Euclidean_distance(points_list):\n",
    "    count = 1\n",
    "    smallest_Euclidean_distance = 0\n",
    "    smallest_Euclidean_distance_p1= (0,0)\n",
    "    smallest_Euclidean_distance_p2 = (0,0)\n",
    "    biggest_Euclidean_distance = 0\n",
    "    biggest_Euclidean_distance_p1 = (0,0)\n",
    "    biggest_Euclidean_distance_p2 = (0,0) \n",
    "    for item in points_list:\n",
    "        index_item = index(item,points_list)\n",
    "        my_list = points_list[index_item+1:]\n",
    "        for items in my_list:\n",
    "            p1 = item\n",
    "            p2 = items\n",
    "            Euclidean_distance_p1_p2 = Euclidean_distance(p1,p2)\n",
    "            if(count==1):\n",
    "                smallest_Euclidean_distance = Euclidean_distance_p1_p2\n",
    "                count+=1\n",
    "            if(Euclidean_distance_p1_p2<smallest_Euclidean_distance):\n",
    "                smallest_Euclidean_distance = Euclidean_distance_p1_p2\n",
    "                smallest_Euclidean_distance_p1 = item\n",
    "                smallest_Euclidean_distance_p2 = items\n",
    "            if(Euclidean_distance_p1_p2>biggest_Euclidean_distance):\n",
    "                biggest_Euclidean_distance = Euclidean_distance_p1_p2\n",
    "                biggest_Euclidean_distance_p1 = item\n",
    "                biggest_Euclidean_distance_p2 = items\n",
    "    return'The minimum distance p1 and p2 is',smallest_Euclidean_distance_p1, smallest_Euclidean_distance_p2,\\\n",
    "    'the maximum distance p1 and p2 is',biggest_Euclidean_distance_p1,biggest_Euclidean_distance_p2"
   ]
  },
  {
   "cell_type": "markdown",
   "metadata": {},
   "source": [
    "Test you function with the following list"
   ]
  },
  {
   "cell_type": "code",
   "execution_count": 7,
   "metadata": {},
   "outputs": [
    {
     "name": "stdout",
     "output_type": "stream",
     "text": [
      "('The minimum distance p1 and p2 is', (0, 2), (-1, 4), 'the maximum distance p1 and p2 is', (5, 9), (3, -7))\n"
     ]
    }
   ],
   "source": [
    "l1=[(0,2),(3,7),(5,9),(-1,4),(3,-7),(6,-2),(-4,1)]\n",
    "print(list_Euclidean_distance(l1))"
   ]
  }
 ],
 "metadata": {
  "kernelspec": {
   "display_name": "Python 3",
   "language": "python",
   "name": "python3"
  },
  "language_info": {
   "codemirror_mode": {
    "name": "ipython",
    "version": 3
   },
   "file_extension": ".py",
   "mimetype": "text/x-python",
   "name": "python",
   "nbconvert_exporter": "python",
   "pygments_lexer": "ipython3",
   "version": "3.8.5"
  }
 },
 "nbformat": 4,
 "nbformat_minor": 5
}
