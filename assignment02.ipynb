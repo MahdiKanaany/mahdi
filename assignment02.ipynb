{
 "cells": [
  {
   "cell_type": "markdown",
   "id": "c14db255-b503-491d-882f-4d15b19d78b9",
   "metadata": {},
   "source": [
    "# Assignment #2"
   ]
  },
  {
   "cell_type": "markdown",
   "id": "01f2c526-e541-40f4-8ce9-e2bae0a0f720",
   "metadata": {},
   "source": [
    "## Task 1\n",
    "\n",
    "The numbers in the table below are the result of executing an algorithm that has one parameter N, a non-negative integer, and produces sequences of integers as outputs. For values of N from 0 to 5, the algorithm produces the following sequences of numbers as outputs.\n",
    "\n",
    "![title](img/algorithm.png)\n",
    "\n",
    "Write a function which can produce the same results given any non-negative integer N."
   ]
  },
  {
   "cell_type": "code",
   "execution_count": null,
   "id": "0abebeeb-a1a1-47ba-87fb-0f0faadbf96a",
   "metadata": {},
   "outputs": [],
   "source": []
  },
  {
   "cell_type": "markdown",
   "id": "cd938e92-566e-45d8-b58b-c4f69e3d6e22",
   "metadata": {},
   "source": [
    "Test your function for N=7"
   ]
  },
  {
   "cell_type": "code",
   "execution_count": null,
   "id": "2febd4d8-85d8-4a6b-b42c-fbb73a54525b",
   "metadata": {},
   "outputs": [],
   "source": []
  },
  {
   "cell_type": "markdown",
   "id": "7ffb2e05-e818-49a1-b08d-1ae930308a67",
   "metadata": {},
   "source": [
    "## Task 2\n",
    "\n",
    "The numbers in the table below are the result of executing an algorithm that has one parameter N, a non-negative integer, and produces sequences of integers as outputs. For values of N from 0 to 5, the algorithm produces the following sequences of numbers as outputs.\n",
    "\n",
    "![title](img/algorithm2.png)\n",
    "\n",
    "Write a function which can produce the same results given any non-negative integer N."
   ]
  },
  {
   "cell_type": "code",
   "execution_count": null,
   "id": "abd5b871-b6b8-4f29-b4e5-89765e2cccbd",
   "metadata": {},
   "outputs": [],
   "source": []
  },
  {
   "cell_type": "markdown",
   "id": "ab4e1eed-09dd-4980-95aa-db808235fd05",
   "metadata": {},
   "source": [
    "Test your function for N=7"
   ]
  },
  {
   "cell_type": "code",
   "execution_count": null,
   "id": "5a80268e-e236-48f7-b979-cf0055b4019d",
   "metadata": {},
   "outputs": [],
   "source": []
  },
  {
   "cell_type": "markdown",
   "id": "42d696d0-ee79-441d-9407-22d2a3529c5a",
   "metadata": {},
   "source": [
    "## Task 3\n",
    "\n",
    "The numbers in the table below are the result of executing an algorithm that has one parameter N, a non-negative integer, and produces sequences of integers as outputs. For values of N from 0 to 5, the algorithm produces the following sequences of numbers as outputs\n",
    "\n",
    "![title](img/algorithm3.png)\n",
    "\n",
    "Write a function which can produce the same results given any non-negative integer N."
   ]
  },
  {
   "cell_type": "code",
   "execution_count": null,
   "id": "2cbe3d75-ef68-47c9-9fee-7825bbb91ae7",
   "metadata": {},
   "outputs": [],
   "source": []
  },
  {
   "cell_type": "markdown",
   "id": "2deb4e30-0182-4c4a-8b2f-87ac4722ecc7",
   "metadata": {},
   "source": [
    "Test your function for N=7"
   ]
  },
  {
   "cell_type": "code",
   "execution_count": null,
   "id": "2eb4e23b-5c05-431c-a870-899386b3ac18",
   "metadata": {},
   "outputs": [],
   "source": []
  },
  {
   "cell_type": "markdown",
   "id": "52613d5b-5d2b-4c2f-a2d2-6164e0ba3f04",
   "metadata": {},
   "source": [
    "## Task 4\n",
    "\n",
    "1. Familiarize yourself with [cartesian coordinate system](https://en.wikipedia.org/wiki/Cartesian_coordinate_system)\n",
    "2. Familiarize yourself with [Euclidean distance](https://en.wikipedia.org/wiki/Euclidean_distance)\n",
    "3. Write a function which gets two points as input and returns the euclidean ditance. The points can be represented as tuples. For example, running the following code should return 5  \n",
    "    ```\n",
    "    p1 = (1,4)\n",
    "    p2 = (4,8)\n",
    "    your_function(p1,p2)\n",
    "    ```"
   ]
  },
  {
   "cell_type": "code",
   "execution_count": null,
   "id": "56d661e8-7d69-443c-bc84-0891abbe973e",
   "metadata": {},
   "outputs": [],
   "source": []
  },
  {
   "cell_type": "markdown",
   "id": "6cbc712c-fb24-4a0f-a598-f334869443c0",
   "metadata": {},
   "source": [
    "Test you function with points (0,5) and (-11,7)"
   ]
  },
  {
   "cell_type": "code",
   "execution_count": null,
   "id": "b81fdafe-0bbe-4d40-a18c-bd4fb80d28ff",
   "metadata": {},
   "outputs": [],
   "source": []
  },
  {
   "cell_type": "markdown",
   "id": "5ea53984-5ebb-45cc-889d-1df2082c6c6f",
   "metadata": {},
   "source": [
    "## Task 5\n",
    "Write a function which gets a list of points as input and prints the two points with minimum distance and the two point with maximum distance. It should work for any number of points."
   ]
  },
  {
   "cell_type": "code",
   "execution_count": null,
   "id": "c699f820-c262-4a22-8f51-1bcf33dd9b7e",
   "metadata": {},
   "outputs": [],
   "source": []
  },
  {
   "cell_type": "markdown",
   "id": "acfcc26e-a256-4ac6-bd91-2ba6f3b5f74e",
   "metadata": {},
   "source": [
    "Test you function with the following list"
   ]
  },
  {
   "cell_type": "code",
   "execution_count": 1,
   "id": "378fd65d-6066-4fdd-a1f2-d9f153a21d5e",
   "metadata": {},
   "outputs": [],
   "source": [
    "l1=[(0,2),(3,7),(5,9),(-1,4),(3,-7),(6,-2),(-4,1)]\n"
   ]
  }
 ],
 "metadata": {
  "kernelspec": {
   "display_name": "Python 3",
   "language": "python",
   "name": "python3"
  },
  "language_info": {
   "codemirror_mode": {
    "name": "ipython",
    "version": 3
   },
   "file_extension": ".py",
   "mimetype": "text/x-python",
   "name": "python",
   "nbconvert_exporter": "python",
   "pygments_lexer": "ipython3",
   "version": "3.8.8"
  }
 },
 "nbformat": 4,
 "nbformat_minor": 5
}
