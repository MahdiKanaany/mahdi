{
 "cells": [
  {
   "cell_type": "markdown",
   "metadata": {},
   "source": [
    "# Assignment #4"
   ]
  },
  {
   "cell_type": "markdown",
   "metadata": {},
   "source": [
    "## Task 1\n",
    "\n",
    "Fix your task 2 in assignment 2! Specifically, write the algorithm with hand and find what is the correct answer for n = 7.\n",
    "- Is you code giving the correct answer?\n",
    "- Do you know why you code produces a wrong answer for n >= 6 ?\n",
    "- How can you fix it?"
   ]
  },
  {
   "cell_type": "code",
   "execution_count": 4,
   "metadata": {},
   "outputs": [],
   "source": [
    "def mazrab_2(n):\n",
    "    if(n%2==0):\n",
    "        return True"
   ]
  },
  {
   "cell_type": "code",
   "execution_count": 8,
   "metadata": {},
   "outputs": [
    {
     "name": "stdout",
     "output_type": "stream",
     "text": [
      "0|2|4|6|8|10|12|7|8|9|10|11|12|13|\n"
     ]
    }
   ],
   "source": [
    "def alg2(n):\n",
    "    if(n==0):\n",
    "        return ''\n",
    "    elif(n==1):\n",
    "        return '01'\n",
    "    else:\n",
    "        s = ''\n",
    "        count = 0\n",
    "        for i in range(0,n*2):\n",
    "            if(mazrab_2(i)):\n",
    "                s+=str(i)\n",
    "                count+=1\n",
    "                s+='|'\n",
    "        start = n\n",
    "        for i in range(count):\n",
    "            s+=str(start)\n",
    "            s+='|'\n",
    "            start+=1\n",
    "        return s\n",
    "print(alg2(7))"
   ]
  },
  {
   "cell_type": "markdown",
   "metadata": {},
   "source": [
    "## Task 2\n",
    "\n",
    "In assignment #3 task 1, you wrote a sorting function. Your job in this task is to improve its performance in terms of execution time. Look at the following cells: "
   ]
  },
  {
   "cell_type": "code",
   "execution_count": 9,
   "metadata": {},
   "outputs": [
    {
     "name": "stdout",
     "output_type": "stream",
     "text": [
      "Collecting ipynb\n",
      "  Downloading ipynb-0.5.1-py3-none-any.whl (6.9 kB)\n",
      "Installing collected packages: ipynb\n",
      "Successfully installed ipynb-0.5.1\n",
      "Note: you may need to restart the kernel to use updated packages.\n"
     ]
    }
   ],
   "source": [
    "pip install ipynb"
   ]
  },
  {
   "cell_type": "code",
   "execution_count": 10,
   "metadata": {},
   "outputs": [],
   "source": [
    "from ipynb.fs.defs.assignment03 import sort as mahdi_sort\n",
    "import numpy as np\n",
    "import time\n",
    "np.random.seed(1)\n",
    "l= np.random.randn(40000)*100"
   ]
  },
  {
   "cell_type": "markdown",
   "metadata": {},
   "source": [
    "Sorting using numpy"
   ]
  },
  {
   "cell_type": "code",
   "execution_count": 11,
   "metadata": {},
   "outputs": [
    {
     "name": "stdout",
     "output_type": "stream",
     "text": [
      "Time elapsed:  0.023289918899536133  seconds\n"
     ]
    }
   ],
   "source": [
    "t1=time.time()\n",
    "l_sorted_np = np.sort(l)\n",
    "t2=time.time()\n",
    "elapsed= t2 - t1\n",
    "print(\"Time elapsed: \",elapsed,\" seconds\")"
   ]
  },
  {
   "cell_type": "markdown",
   "metadata": {},
   "source": [
    "Sorting using your function"
   ]
  },
  {
   "cell_type": "code",
   "execution_count": 3,
   "metadata": {},
   "outputs": [
    {
     "name": "stdout",
     "output_type": "stream",
     "text": [
      "Time elapsed:  44.84221577644348  seconds\n"
     ]
    }
   ],
   "source": [
    "t1=time.time()\n",
    "l_sorted_mahdi = mahdi_sort(list(l))\n",
    "t2=time.time()\n",
    "elapsed= t2 - t1\n",
    "print(\"Time elapsed: \",elapsed,\" seconds\")"
   ]
  },
  {
   "cell_type": "markdown",
   "metadata": {},
   "source": [
    "Look that when the list gets bigger, how much time your algorithm requires to give the answer. Think about the ways you can reduce this time and have an algorithm with better performance."
   ]
  },
  {
   "cell_type": "code",
   "execution_count": 24,
   "metadata": {},
   "outputs": [
    {
     "name": "stdout",
     "output_type": "stream",
     "text": [
      "[-1.2, 0, 1.5, 2.1, 3, 5.7]\n"
     ]
    }
   ],
   "source": [
    "def sort(input_list):\n",
    "    s = input_list[0]\n",
    "    output_list = []\n",
    "    for i in range(len(input_list)):\n",
    "        for item in input_list:\n",
    "            if(item<s):\n",
    "                s = item\n",
    "        output_list.append(s)\n",
    "        input_list.remove(s)\n",
    "        if(input_list!=[]):\n",
    "            s = input_list[0]\n",
    "    return output_list\n",
    "\n",
    "print(sort([2.1, 0, 5.7, -1.2, 3, 1.5]))"
   ]
  },
  {
   "cell_type": "markdown",
   "metadata": {},
   "source": [
    "## Task 3\n",
    "\n",
    "In assignment #3 task 2, 3 and 4, your function does not work as intended. You are using a for loop outside the function to produce your results. The function should work just by calling it. Look at the following example:"
   ]
  },
  {
   "cell_type": "code",
   "execution_count": 25,
   "metadata": {},
   "outputs": [],
   "source": [
    "def print_triangle(n):\n",
    "    for i in range(n):\n",
    "        for j in range(0,i+1):\n",
    "            print(\"*\", end=\"\");\n",
    "        print()"
   ]
  },
  {
   "cell_type": "code",
   "execution_count": 26,
   "metadata": {},
   "outputs": [
    {
     "name": "stdout",
     "output_type": "stream",
     "text": [
      "*\n",
      "**\n",
      "***\n"
     ]
    }
   ],
   "source": [
    "print_triangle(3)"
   ]
  },
  {
   "cell_type": "code",
   "execution_count": 4,
   "metadata": {},
   "outputs": [],
   "source": [
    "def coordinate(rect,size):\n",
    "    line = 1\n",
    "    string = ''\n",
    "    my_list = []\n",
    "    a = size[0]-rect[1]\n",
    "    b = a - rect[-1]\n",
    "    for k in range(b + 1, a + 1):\n",
    "        my_list.append(k)\n",
    "    for i in range(0,size[0]):\n",
    "        if(rect[0]<=0 or rect[2]<=0):\n",
    "            print('look at your rect please.')\n",
    "            break\n",
    "        if(rect[2]>size[0] or rect[3]>size[1]):\n",
    "            print('look at your size please.')\n",
    "            break\n",
    "        if(line in my_list):\n",
    "            string+='-'*rect[0]\n",
    "            string+='*'*rect[2]\n",
    "            result = size[1]\n",
    "            for char in string:\n",
    "                result -= 1\n",
    "            string+='-'*result\n",
    "            yield string\n",
    "            string = ''\n",
    "            line+=1\n",
    "        else:\n",
    "            string+='-'*size[0]\n",
    "            yield (string)\n",
    "            string = ''\n",
    "            line+=1 \n",
    "\n"
   ]
  },
  {
   "cell_type": "markdown",
   "metadata": {},
   "source": [
    "Do task 4 in assignment 3 again"
   ]
  },
  {
   "cell_type": "code",
   "execution_count": 5,
   "metadata": {},
   "outputs": [],
   "source": [
    "def one_two_three(rect1,rect2,size):\n",
    "    try:\n",
    "        a = ''\n",
    "        b = ''\n",
    "        index = 0\n",
    "        string = ''\n",
    "        count = 0\n",
    "        \n",
    "        for item in coordinate(rect1,size):\n",
    "            \n",
    "            for char in item:\n",
    "                a+=char\n",
    "        for items in coordinate(rect2,size):\n",
    "            for chars in items:\n",
    "                b+=chars\n",
    "        for i in range(size[0]*size[0]):\n",
    "            if(a[index]=='-'):\n",
    "                if(b[index]=='-'):\n",
    "                    string+='0'\n",
    "                    index+=1\n",
    "                elif(b[index]=='*'):\n",
    "                    string+='2'\n",
    "                    index+=1\n",
    "            elif(a[index]=='*'):\n",
    "                if(b[index]=='-'):\n",
    "                    string+='1'\n",
    "                    index+=1\n",
    "                elif(b[index]=='*'):\n",
    "                    string+='3'\n",
    "                    index+=1\n",
    "            if(len(string)==size[1]):\n",
    "                count+=1\n",
    "                print (string)\n",
    "                string = ''\n",
    "    except IndexError:\n",
    "        pass"
   ]
  },
  {
   "cell_type": "markdown",
   "metadata": {},
   "source": [
    "Test your function. Do not change anything in this cell other than the function name which should be changed with the name you chose for your function."
   ]
  },
  {
   "cell_type": "code",
   "execution_count": 6,
   "metadata": {},
   "outputs": [
    {
     "name": "stdout",
     "output_type": "stream",
     "text": [
      "\n",
      "Test  (2, 1, 7, 5)  and  (2, 1, 7, 5)\n",
      "000000000000000\n",
      "000000000000000\n",
      "000000000000000\n",
      "000000000000000\n",
      "000000000000000\n",
      "000000000000000\n",
      "000000000000000\n",
      "000000000000000\n",
      "000000000000000\n",
      "003333333000000\n",
      "003333333000000\n",
      "003333333000000\n",
      "003333333000000\n",
      "003333333000000\n",
      "000000000000000\n",
      "\n",
      "Test  (2, 1, 7, 5)  and  (4, 2, 3, 2)\n",
      "000000000000000\n",
      "000000000000000\n",
      "000000000000000\n",
      "000000000000000\n",
      "000000000000000\n",
      "000000000000000\n",
      "000000000000000\n",
      "000000000000000\n",
      "000000000000000\n",
      "001111111000000\n",
      "001111111000000\n",
      "001133311000000\n",
      "001133311000000\n",
      "001111111000000\n",
      "000000000000000\n",
      "\n",
      "Test  (2, 1, 7, 5)  and  (1, 8, 9, 2)\n",
      "000000000000000\n",
      "000000000000000\n",
      "000000000000000\n",
      "000000000000000\n",
      "000000000000000\n",
      "022222222200000\n",
      "022222222200000\n",
      "000000000000000\n",
      "000000000000000\n",
      "001111111000000\n",
      "001111111000000\n",
      "001111111000000\n",
      "001111111000000\n",
      "001111111000000\n",
      "000000000000000\n",
      "\n",
      "Test  (2, 1, 7, 5)  and  (7, 3, 4, 5)\n",
      "000000000000000\n",
      "000000000000000\n",
      "000000000000000\n",
      "000000000000000\n",
      "000000000000000\n",
      "000000000000000\n",
      "000000000000000\n",
      "000000022220000\n",
      "000000022220000\n",
      "001111133220000\n",
      "001111133220000\n",
      "001111133220000\n",
      "001111111000000\n",
      "001111111000000\n",
      "000000000000000\n",
      "\n",
      "Test  (2, 1, 7, 5)  and  (11, 2, 1, 7)\n",
      "000000000000000\n",
      "000000000000000\n",
      "000000000000000\n",
      "000000000000000\n",
      "000000000000000\n",
      "000000000000000\n",
      "000000000002000\n",
      "000000000002000\n",
      "000000000002000\n",
      "001111111002000\n",
      "001111111002000\n",
      "001111111002000\n",
      "001111111002000\n",
      "001111111000000\n",
      "000000000000000\n",
      "\n",
      "Test  (2, 1, 7, 5)  and  (9, 4, 3, 3)\n",
      "000000000000000\n",
      "000000000000000\n",
      "000000000000000\n",
      "000000000000000\n",
      "000000000000000\n",
      "000000000000000\n",
      "000000000000000\n",
      "000000000000000\n",
      "000000000222000\n",
      "001111111222000\n",
      "001111111222000\n",
      "001111111000000\n",
      "001111111000000\n",
      "001111111000000\n",
      "000000000000000\n"
     ]
    }
   ],
   "source": [
    "rects = [(2, 1, 7, 5), (4, 2, 3, 2), (1, 8, 9, 2), (7, 3, 4, 5), (11, 2, 1, 7), (9, 4, 3, 3)]\n",
    "size = (15, 15)\n",
    "for rect in rects:\n",
    "    print(\"\\nTest \", rects[0], \" and \", rect)\n",
    "    one_two_three(rects[0], rect, size)"
   ]
  },
  {
   "cell_type": "markdown",
   "metadata": {},
   "source": [
    "## Task 4\n",
    "\n",
    "The numbers we use normally are represented in [decimal numeral system](https://en.wikipedia.org/wiki/Decimal). Familiarize yourself with [binary numbers](https://en.wikipedia.org/wiki/Binary_number) and [hexadecimal numbers](https://en.wikipedia.org/wiki/Hexadecimal).\n",
    "\n",
    "Write a function which gets a decimal number as input and returns binary and hexadecimal representations stored as strings. For example:\n",
    "\n",
    "    [binary, hex] = YOUR_FUNCTION(155)\n",
    "    \n",
    "should result in two strings, binary = \"10011011\" and hex = \"9b\"\n",
    "\n",
    "You are **NOT** allowed to use build-in hex and bin functions!"
   ]
  },
  {
   "cell_type": "code",
   "execution_count": 1,
   "metadata": {},
   "outputs": [],
   "source": [
    "def index(item,input_list):\n",
    "    index = 0\n",
    "    for items in input_list:\n",
    "        if(items==item):\n",
    "            return index\n",
    "        else:\n",
    "            index+=1"
   ]
  },
  {
   "cell_type": "code",
   "execution_count": 2,
   "metadata": {},
   "outputs": [],
   "source": [
    "def hexabin(n):\n",
    "    def binary(n):\n",
    "        if(n==0):\n",
    "            return '00000000'\n",
    "        elif(n==1):\n",
    "            return '00000001'\n",
    "        elif(n==2):\n",
    "            return '00000010'\n",
    "        else:\n",
    "            plus = 0\n",
    "            string = ''\n",
    "            my_list = []\n",
    "            bl = [128,64,32,16,8,4,2,1]\n",
    "            bl_copy = [128,64,32,16,8,4,2,1]\n",
    "            a = 0\n",
    "            Submission = n\n",
    "            while(plus!=n):\n",
    "                if(Submission==1):\n",
    "                    my_list.append(1)\n",
    "                    break\n",
    "                for item in my_list:\n",
    "                    plus+=item\n",
    "                for number in bl:\n",
    "                    if(Submission>number):\n",
    "                        a = number\n",
    "                        Submission = Submission-a\n",
    "                        my_list.append(a)\n",
    "                        bl.remove(a)\n",
    "                        break\n",
    "            for item in bl_copy:\n",
    "                if(item in my_list):\n",
    "                    string+='1'\n",
    "                else:\n",
    "                    string+='0'\n",
    "            return string\n",
    "    def hexadecimal(n):\n",
    "        d = {'a':10,'b':11,'c':12,'d':13,'e':14,'f':15}\n",
    "        s_1 = ''\n",
    "        s_2 = ''\n",
    "        for i in range(1,10):\n",
    "            for item in d.values():\n",
    "                a = binary(i)\n",
    "                b = binary(item)\n",
    "                count = 1\n",
    "                for char in a:\n",
    "                    if(count<=4):\n",
    "                        count+=1\n",
    "                        continue\n",
    "                    else:\n",
    "                        s_1+=char\n",
    "                count = 1\n",
    "                for character in b:\n",
    "                    if(count<=4):\n",
    "                        count+=1\n",
    "                        continue\n",
    "                    else:\n",
    "                        s_2+=character\n",
    "                r = s_1 + s_2\n",
    "                if(r==binary(n)):\n",
    "                    if(item==10):\n",
    "                        item = 'a'\n",
    "                    elif(item==11):\n",
    "                        item = 'b'\n",
    "                    elif(item==12):\n",
    "                        item = 'c'\n",
    "                    elif(item==13):\n",
    "                        item = 'd'\n",
    "                    elif(item==14):\n",
    "                        item = 'e'\n",
    "                    elif(item==15):\n",
    "                        item = 'f'\n",
    "                    return ('%s%s' %(i,item))\n",
    "                else:\n",
    "                    r = ''\n",
    "                    s_1 = ''\n",
    "                    s_2 = ''\n",
    "    return (binary(n),hexadecimal(n))"
   ]
  },
  {
   "cell_type": "code",
   "execution_count": 3,
   "metadata": {},
   "outputs": [
    {
     "data": {
      "text/plain": [
       "('10011011', '9b')"
      ]
     },
     "execution_count": 3,
     "metadata": {},
     "output_type": "execute_result"
    }
   ],
   "source": [
    "hexabin(155)"
   ]
  },
  {
   "cell_type": "markdown",
   "metadata": {},
   "source": [
    "Test your function:"
   ]
  },
  {
   "cell_type": "code",
   "execution_count": null,
   "metadata": {},
   "outputs": [],
   "source": [
    "for i in range(11000,11050):\n",
    "    [bin_s, hex_s] = hexabin(i)\n",
    "    print(\"Decimal: \", i, \"\\thexadecimal: \", hex_s, \"\\t\\tbinary: \", bin_s)"
   ]
  },
  {
   "cell_type": "markdown",
   "metadata": {},
   "source": [
    "My funtion can`t produce this but can produce one number."
   ]
  }
 ],
 "metadata": {
  "kernelspec": {
   "display_name": "Python 3",
   "language": "python",
   "name": "python3"
  },
  "language_info": {
   "codemirror_mode": {
    "name": "ipython",
    "version": 3
   },
   "file_extension": ".py",
   "mimetype": "text/x-python",
   "name": "python",
   "nbconvert_exporter": "python",
   "pygments_lexer": "ipython3",
   "version": "3.8.5"
  }
 },
 "nbformat": 4,
 "nbformat_minor": 5
}
