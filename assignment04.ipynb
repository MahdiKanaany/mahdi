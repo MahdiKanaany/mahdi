{
 "cells": [
  {
   "cell_type": "markdown",
   "metadata": {},
   "source": [
    "# Assignment #4"
   ]
  },
  {
   "cell_type": "markdown",
   "metadata": {},
   "source": [
    "## Task 1\n",
    "\n",
    "Fix your task 2 in assignment 2! Specifically, write the algorithm with hand and find what is the correct answer for n = 7.\n",
    "- Is you code giving the correct answer?\n",
    "- Do you know why you code produces a wrong answer for n >= 6 ?\n",
    "- How can you fix it?"
   ]
  },
  {
   "cell_type": "code",
   "execution_count": 1,
   "metadata": {},
   "outputs": [],
   "source": [
    "def mazrab_2(n):\n",
    "    if(n%2==0):\n",
    "        return True"
   ]
  },
  {
   "cell_type": "markdown",
   "metadata": {},
   "source": [
    "You did not have to define the above function. Look at the following cell:"
   ]
  },
  {
   "cell_type": "code",
   "execution_count": 2,
   "metadata": {},
   "outputs": [
    {
     "name": "stdout",
     "output_type": "stream",
     "text": [
      "1. No\n",
      "2. No\n"
     ]
    }
   ],
   "source": [
    "n = 13\n",
    "if (mazrab_2(n)):\n",
    "    print(\"1. Yes\")\n",
    "else :\n",
    "    print(\"1. No\")\n",
    "if (n%2==0):\n",
    "    print(\"2. Yes\")\n",
    "else :\n",
    "    print(\"2. No\")"
   ]
  },
  {
   "cell_type": "code",
   "execution_count": 3,
   "metadata": {},
   "outputs": [
    {
     "name": "stdout",
     "output_type": "stream",
     "text": [
      "0|2|4|6|8|10|12|7|8|9|10|11|12|13|\n"
     ]
    }
   ],
   "source": [
    "def alg2(n):\n",
    "    if(n==0):\n",
    "        return ''\n",
    "    elif(n==1):\n",
    "        return '01'\n",
    "    else:\n",
    "        s = ''\n",
    "        count = 0\n",
    "        for i in range(0,n*2):\n",
    "            if(mazrab_2(i)):\n",
    "                s+=str(i)\n",
    "                count+=1\n",
    "                s+='|'\n",
    "        start = n\n",
    "        for i in range(count):\n",
    "            s+=str(start)\n",
    "            s+='|'\n",
    "            start+=1\n",
    "        return s\n",
    "print(alg2(7))"
   ]
  },
  {
   "cell_type": "markdown",
   "metadata": {},
   "source": [
    "## Task 2\n",
    "\n",
    "In assignment #3 task 1, you wrote a sorting function. Your job in this task is to improve its performance in terms of execution time. Look at the following cells: "
   ]
  },
  {
   "cell_type": "code",
   "execution_count": 4,
   "metadata": {},
   "outputs": [
    {
     "name": "stdout",
     "output_type": "stream",
     "text": [
      "Requirement already satisfied: ipynb in /home/mahmoud/anaconda3/lib/python3.8/site-packages (0.5.1)\n",
      "Note: you may need to restart the kernel to use updated packages.\n"
     ]
    }
   ],
   "source": [
    "pip install ipynb"
   ]
  },
  {
   "cell_type": "code",
   "execution_count": 5,
   "metadata": {},
   "outputs": [],
   "source": [
    "from ipynb.fs.defs.assignment03 import sort as mahdi_sort\n",
    "import numpy as np\n",
    "import time\n",
    "np.random.seed(1)\n",
    "l= np.random.randn(40000)*100"
   ]
  },
  {
   "cell_type": "markdown",
   "metadata": {},
   "source": [
    "Sorting using numpy"
   ]
  },
  {
   "cell_type": "code",
   "execution_count": 6,
   "metadata": {},
   "outputs": [
    {
     "name": "stdout",
     "output_type": "stream",
     "text": [
      "Time elapsed:  0.003713846206665039  seconds\n"
     ]
    }
   ],
   "source": [
    "t1=time.time()\n",
    "l_sorted_np = np.sort(l)\n",
    "t2=time.time()\n",
    "elapsed= t2 - t1\n",
    "print(\"Time elapsed: \",elapsed,\" seconds\")"
   ]
  },
  {
   "cell_type": "markdown",
   "metadata": {},
   "source": [
    "Sorting using your function"
   ]
  },
  {
   "cell_type": "code",
   "execution_count": 7,
   "metadata": {},
   "outputs": [
    {
     "name": "stdout",
     "output_type": "stream",
     "text": [
      "Time elapsed:  45.287617921829224  seconds\n"
     ]
    }
   ],
   "source": [
    "t1=time.time()\n",
    "l_sorted_mahdi = mahdi_sort(list(l))\n",
    "t2=time.time()\n",
    "elapsed= t2 - t1\n",
    "print(\"Time elapsed: \",elapsed,\" seconds\")"
   ]
  },
  {
   "cell_type": "markdown",
   "metadata": {},
   "source": [
    "Look that when the list gets bigger, how much time your algorithm requires to give the answer. Think about the ways you can reduce this time and have an algorithm with better performance."
   ]
  },
  {
   "cell_type": "code",
   "execution_count": 8,
   "metadata": {},
   "outputs": [],
   "source": [
    "def mahdi_sort_2(input_list):\n",
    "    s = input_list[0]\n",
    "    output_list = []\n",
    "    for i in range(len(input_list)):\n",
    "        for item in input_list:\n",
    "            if(item<s):\n",
    "                s = item\n",
    "        output_list.append(s)\n",
    "        input_list.remove(s)\n",
    "        if(input_list!=[]):\n",
    "            s = input_list[0]\n",
    "    return output_list"
   ]
  },
  {
   "cell_type": "markdown",
   "metadata": {},
   "source": [
    "Let's test your new sort implementation:"
   ]
  },
  {
   "cell_type": "code",
   "execution_count": 9,
   "metadata": {},
   "outputs": [
    {
     "name": "stdout",
     "output_type": "stream",
     "text": [
      "Time elapsed:  32.39643216133118  seconds\n"
     ]
    }
   ],
   "source": [
    "t1=time.time()\n",
    "l_sorted_mahdi_2 = mahdi_sort_2(list(l))\n",
    "t2=time.time()\n",
    "elapsed= t2 - t1\n",
    "print(\"Time elapsed: \",elapsed,\" seconds\")"
   ]
  },
  {
   "cell_type": "markdown",
   "metadata": {},
   "source": [
    "Very good! The first implementation took 45 seconds to run and the new implementation takes 32 seconds to run. That means you have reduced the time by 29% which is great.\n",
    "\n",
    "You can read more on sorting algorithms [here](https://en.wikipedia.org/wiki/Sorting_algorithm)."
   ]
  },
  {
   "cell_type": "markdown",
   "metadata": {},
   "source": [
    "## Task 3\n",
    "\n",
    "In assignment #3 task 2, 3 and 4, your function does not work as intended. You are using a for loop outside the function to produce your results. The function should work just by calling it. Look at the following example:"
   ]
  },
  {
   "cell_type": "code",
   "execution_count": 10,
   "metadata": {},
   "outputs": [],
   "source": [
    "def print_triangle(n):\n",
    "    for i in range(n):\n",
    "        for j in range(0,i+1):\n",
    "            print(\"*\", end=\"\");\n",
    "        print()"
   ]
  },
  {
   "cell_type": "code",
   "execution_count": 11,
   "metadata": {},
   "outputs": [
    {
     "name": "stdout",
     "output_type": "stream",
     "text": [
      "*\n",
      "**\n",
      "***\n"
     ]
    }
   ],
   "source": [
    "print_triangle(3)"
   ]
  },
  {
   "cell_type": "code",
   "execution_count": 12,
   "metadata": {},
   "outputs": [],
   "source": [
    "def coordinate(rect,size):\n",
    "    line = 1\n",
    "    string = ''\n",
    "    my_list = []\n",
    "    a = size[0]-rect[1]\n",
    "    b = a - rect[-1]\n",
    "    for k in range(b + 1, a + 1):\n",
    "        my_list.append(k)\n",
    "    for i in range(0,size[0]):\n",
    "        if(rect[0]<=0 or rect[2]<=0):\n",
    "            print('look at your rect please.')\n",
    "            break\n",
    "        if(rect[2]>size[0] or rect[3]>size[1]):\n",
    "            print('look at your size please.')\n",
    "            break\n",
    "        if(line in my_list):\n",
    "            string+='-'*rect[0]\n",
    "            string+='*'*rect[2]\n",
    "            result = size[1]\n",
    "            for char in string:\n",
    "                result -= 1\n",
    "            string+='-'*result\n",
    "            yield string\n",
    "            string = ''\n",
    "            line+=1\n",
    "        else:\n",
    "            string+='-'*size[0]\n",
    "            yield (string)\n",
    "            string = ''\n",
    "            line+=1 \n",
    "\n"
   ]
  },
  {
   "cell_type": "markdown",
   "metadata": {},
   "source": [
    "Do task 4 in assignment 3 again"
   ]
  },
  {
   "cell_type": "code",
   "execution_count": 13,
   "metadata": {},
   "outputs": [],
   "source": [
    "def one_two_three(rect1,rect2,size):\n",
    "    try:\n",
    "        a = ''\n",
    "        b = ''\n",
    "        index = 0\n",
    "        string = ''\n",
    "        count = 0\n",
    "        for item in coordinate(rect1,size):\n",
    "            \n",
    "            for char in item:\n",
    "                a+=char\n",
    "        for items in coordinate(rect2,size):\n",
    "            for chars in items:\n",
    "                b+=chars\n",
    "        for i in range(size[0]*size[0]):\n",
    "            if(a[index]=='-'):\n",
    "                if(b[index]=='-'):\n",
    "                    string+='0'\n",
    "                    index+=1\n",
    "                elif(b[index]=='*'):\n",
    "                    string+='2'\n",
    "                    index+=1\n",
    "            elif(a[index]=='*'):\n",
    "                if(b[index]=='-'):\n",
    "                    string+='1'\n",
    "                    index+=1\n",
    "                elif(b[index]=='*'):\n",
    "                    string+='3'\n",
    "                    index+=1\n",
    "            if(len(string)==size[1]):\n",
    "                count+=1\n",
    "                print (string)\n",
    "                string = ''\n",
    "    except IndexError:\n",
    "        pass"
   ]
  },
  {
   "cell_type": "markdown",
   "metadata": {},
   "source": [
    "Test your function. Do not change anything in this cell other than the function name which should be changed with the name you chose for your function."
   ]
  },
  {
   "cell_type": "code",
   "execution_count": 14,
   "metadata": {},
   "outputs": [
    {
     "name": "stdout",
     "output_type": "stream",
     "text": [
      "\n",
      "Test  (2, 1, 7, 5)  and  (2, 1, 7, 5)\n",
      "000000000000000\n",
      "000000000000000\n",
      "000000000000000\n",
      "000000000000000\n",
      "000000000000000\n",
      "000000000000000\n",
      "000000000000000\n",
      "000000000000000\n",
      "000000000000000\n",
      "003333333000000\n",
      "003333333000000\n",
      "003333333000000\n",
      "003333333000000\n",
      "003333333000000\n",
      "000000000000000\n",
      "\n",
      "Test  (2, 1, 7, 5)  and  (4, 2, 3, 2)\n",
      "000000000000000\n",
      "000000000000000\n",
      "000000000000000\n",
      "000000000000000\n",
      "000000000000000\n",
      "000000000000000\n",
      "000000000000000\n",
      "000000000000000\n",
      "000000000000000\n",
      "001111111000000\n",
      "001111111000000\n",
      "001133311000000\n",
      "001133311000000\n",
      "001111111000000\n",
      "000000000000000\n",
      "\n",
      "Test  (2, 1, 7, 5)  and  (1, 8, 9, 2)\n",
      "000000000000000\n",
      "000000000000000\n",
      "000000000000000\n",
      "000000000000000\n",
      "000000000000000\n",
      "022222222200000\n",
      "022222222200000\n",
      "000000000000000\n",
      "000000000000000\n",
      "001111111000000\n",
      "001111111000000\n",
      "001111111000000\n",
      "001111111000000\n",
      "001111111000000\n",
      "000000000000000\n",
      "\n",
      "Test  (2, 1, 7, 5)  and  (7, 3, 4, 5)\n",
      "000000000000000\n",
      "000000000000000\n",
      "000000000000000\n",
      "000000000000000\n",
      "000000000000000\n",
      "000000000000000\n",
      "000000000000000\n",
      "000000022220000\n",
      "000000022220000\n",
      "001111133220000\n",
      "001111133220000\n",
      "001111133220000\n",
      "001111111000000\n",
      "001111111000000\n",
      "000000000000000\n",
      "\n",
      "Test  (2, 1, 7, 5)  and  (11, 2, 1, 7)\n",
      "000000000000000\n",
      "000000000000000\n",
      "000000000000000\n",
      "000000000000000\n",
      "000000000000000\n",
      "000000000000000\n",
      "000000000002000\n",
      "000000000002000\n",
      "000000000002000\n",
      "001111111002000\n",
      "001111111002000\n",
      "001111111002000\n",
      "001111111002000\n",
      "001111111000000\n",
      "000000000000000\n",
      "\n",
      "Test  (2, 1, 7, 5)  and  (9, 4, 3, 3)\n",
      "000000000000000\n",
      "000000000000000\n",
      "000000000000000\n",
      "000000000000000\n",
      "000000000000000\n",
      "000000000000000\n",
      "000000000000000\n",
      "000000000000000\n",
      "000000000222000\n",
      "001111111222000\n",
      "001111111222000\n",
      "001111111000000\n",
      "001111111000000\n",
      "001111111000000\n",
      "000000000000000\n"
     ]
    }
   ],
   "source": [
    "rects = [(2, 1, 7, 5), (4, 2, 3, 2), (1, 8, 9, 2), (7, 3, 4, 5), (11, 2, 1, 7), (9, 4, 3, 3)]\n",
    "size = (15, 15)\n",
    "for rect in rects:\n",
    "    print(\"\\nTest \", rects[0], \" and \", rect)\n",
    "    one_two_three(rects[0], rect, size)"
   ]
  },
  {
   "cell_type": "markdown",
   "metadata": {},
   "source": [
    "## Task 4\n",
    "\n",
    "The numbers we use normally are represented in [decimal numeral system](https://en.wikipedia.org/wiki/Decimal). Familiarize yourself with [binary numbers](https://en.wikipedia.org/wiki/Binary_number) and [hexadecimal numbers](https://en.wikipedia.org/wiki/Hexadecimal).\n",
    "\n",
    "Write a function which gets a decimal number as input and returns binary and hexadecimal representations stored as strings. For example:\n",
    "\n",
    "    [binary, hex] = YOUR_FUNCTION(155)\n",
    "    \n",
    "should result in two strings, binary = \"10011011\" and hex = \"9b\"\n",
    "\n",
    "You are **NOT** allowed to use build-in hex and bin functions!"
   ]
  },
  {
   "cell_type": "code",
   "execution_count": 15,
   "metadata": {},
   "outputs": [],
   "source": [
    "def rev(il):\n",
    "    ol = il.reverse()\n",
    "    return ol"
   ]
  },
  {
   "cell_type": "code",
   "execution_count": 16,
   "metadata": {},
   "outputs": [],
   "source": [
    "def index(item,input_list):\n",
    "    index = 0\n",
    "    for items in input_list:\n",
    "        if(items==item):\n",
    "            return index\n",
    "        else:\n",
    "            index+=1"
   ]
  },
  {
   "cell_type": "code",
   "execution_count": 17,
   "metadata": {},
   "outputs": [
    {
     "data": {
      "text/plain": [
       "'1100100'"
      ]
     },
     "execution_count": 17,
     "metadata": {},
     "output_type": "execute_result"
    }
   ],
   "source": [
    "def binary(n):\n",
    "        if(n==0):\n",
    "            return '0000'\n",
    "        elif(n==1):\n",
    "            return '0001'\n",
    "        elif(n==2):\n",
    "            return '0010'\n",
    "        else:\n",
    "            plus = 0\n",
    "            string = ''\n",
    "            bl = [1]\n",
    "            my_list = []\n",
    "            bl_copy = []\n",
    "            a = 0\n",
    "            num = 1\n",
    "            while(2**num<=n):\n",
    "                bl.append(2**num)\n",
    "                num+=1\n",
    "            blr = reversed(bl)\n",
    "            blr = list(blr)\n",
    "            if(n in blr):\n",
    "                for item in blr:\n",
    "                    if(item==n):\n",
    "                        string+='1'\n",
    "                    else:\n",
    "                        string+='0'\n",
    "                return string\n",
    "            Submission = n\n",
    "            while(plus!=n):\n",
    "                if(Submission==1):\n",
    "                    my_list.append(1)\n",
    "                if(Submission in blr):\n",
    "                    my_list.append(Submission)\n",
    "                    break\n",
    "                for item in my_list:\n",
    "                    plus+=item\n",
    "                for number in blr:\n",
    "                    if(Submission>number):\n",
    "                        a = number\n",
    "                        Submission = Submission-a\n",
    "                        my_list.append(a)\n",
    "                        break\n",
    "            for item in blr:\n",
    "                if(item in my_list):\n",
    "                    string+='1'\n",
    "                else:\n",
    "                    string+='0'\n",
    "            return string\n",
    "binary(100)"
   ]
  },
  {
   "cell_type": "code",
   "execution_count": 18,
   "metadata": {},
   "outputs": [],
   "source": [
    "def hexadecimal(n):\n",
    "        d = {'a':10,'b':11,'c':12,'d':13,'e':14,'f':15}\n",
    "        s_1 = ''\n",
    "        s_2 = ''\n",
    "        string_1 = '1'\n",
    "        string_2 = '2'\n",
    "        string_4 = '4'\n",
    "        string_8 = '8'\n",
    "        my_list = []\n",
    "        num = 1\n",
    "        while(2**num<=n):\n",
    "                my_list.append(2**num)\n",
    "                num+=1\n",
    "        count = 0\n",
    "        if(n in my_list):\n",
    "            for number in my_list:\n",
    "                if(number==n):\n",
    "                    if(count==3):\n",
    "                        for a in range(len(str(n))-1):\n",
    "                            string_1+='0'\n",
    "                        return string_1\n",
    "                    elif(count==4):\n",
    "                        for a in range(len(str(n))-1):\n",
    "                            string_2+='0'\n",
    "                        return string_2\n",
    "                    elif(count==5):\n",
    "                        for a in range(len(str(n))-1):\n",
    "                            string_4+='0' \n",
    "                        return string_4\n",
    "                    elif(count==6):\n",
    "                        for a in range(len(str(n))-2):\n",
    "                            string_8+='0'\n",
    "                        return string_8 \n",
    "                    if(count>=7):\n",
    "                        count = count - 7\n",
    "                        if(count==0):\n",
    "                            for a in range(len(str(n))-1):\n",
    "                                string_1+='0'\n",
    "                            return string_1\n",
    "                        else:\n",
    "                            count+=3\n",
    "                            if(count==3):\n",
    "                                for a in range(len(str(n))-1):\n",
    "                                    string_1+='0'\n",
    "                                return string_1\n",
    "                            elif(count==4):\n",
    "                                for a in range(len(str(n))-1):\n",
    "                                    string_2+='0'\n",
    "                                return string_2\n",
    "                            elif(count==5):\n",
    "                                for a in range(len(str(n))-1):\n",
    "                                    string_4+='0' \n",
    "                                return string_4\n",
    "                            elif(count==6):\n",
    "                                for a in range(len(str(n))-2):\n",
    "                                    string_8+='0'\n",
    "                                return string_8 \n",
    "                else:\n",
    "                    count+=1\n",
    "                            \n",
    "        \n",
    "        l = len(binary(n))//2\n",
    "        for i in range(1,10):\n",
    "            for item in d.values():\n",
    "                    a = binary(i)\n",
    "                    b = binary(item)\n",
    "                    if(len(a)!=l):\n",
    "                        for k in range(l-len(a)):\n",
    "                            s_1+='0'\n",
    "                        a = s_1 + a\n",
    "                        \n",
    "                    if(len(b)!=l):\n",
    "                        for k in range(l-len(a)):\n",
    "                            s_2+='0'\n",
    "                        b = s_2 + b\n",
    "                    r = a+b\n",
    "                    if(r==binary(n)):\n",
    "                        if(item==10):\n",
    "                            item = 'a'\n",
    "                        elif(item==11):\n",
    "                            item = 'b'\n",
    "                        elif(item==12):\n",
    "                            item = 'c'\n",
    "                        elif(item==13):\n",
    "                            item = 'd'\n",
    "                        elif(item==14):\n",
    "                            item = 'e'\n",
    "                        elif(item==15):\n",
    "                            item = 'f'\n",
    "                        return ('%s%s' %(i,item))\n",
    "\n",
    "                    else:\n",
    "                        r = ''\n",
    "                        s_1 = ''\n",
    "                        s_2 = ''\n",
    "            for i in range(1,10):\n",
    "                    for item in range(1,10):\n",
    "                        a = binary(i)\n",
    "                        b = binary(item)\n",
    "                        r = a+b\n",
    "                        if(r==binary(n)):\n",
    "                            if(item==10):\n",
    "                                item = 'a'\n",
    "                            elif(item==11):\n",
    "                                item = 'b'\n",
    "                            elif(item==12):\n",
    "                                item = 'c'\n",
    "                            elif(item==13):\n",
    "                                item = 'd'\n",
    "                            elif(item==14):\n",
    "                                item = 'e'\n",
    "                            elif(item==15):\n",
    "                                item = 'f'\n",
    "                            return ('%s%s' %(i,item))\n",
    "\n",
    "                        else:\n",
    "                            r = ''\n",
    "                            s_1 = ''\n",
    "                            s_2 = ''"
   ]
  },
  {
   "cell_type": "code",
   "execution_count": 19,
   "metadata": {},
   "outputs": [],
   "source": [
    "def hexabin(n):\n",
    "    return (binary(n),hexadecimal(n))"
   ]
  },
  {
   "cell_type": "code",
   "execution_count": 20,
   "metadata": {},
   "outputs": [
    {
     "name": "stdout",
     "output_type": "stream",
     "text": [
      "16\n",
      "('10000', '10')\n",
      "32\n",
      "('100000', '20')\n",
      "48\n",
      "('110000', None)\n",
      "64\n",
      "('1000000', '40')\n",
      "80\n",
      "('1010000', None)\n",
      "96\n",
      "('1100000', None)\n",
      "112\n",
      "('1110000', None)\n",
      "128\n",
      "('10000000', '80')\n",
      "144\n",
      "('10010000', None)\n",
      "160\n",
      "('10100000', None)\n",
      "176\n",
      "('10110000', None)\n",
      "192\n",
      "('11000000', None)\n",
      "208\n",
      "('11010000', None)\n",
      "224\n",
      "('11100000', None)\n",
      "240\n",
      "('11110000', None)\n"
     ]
    }
   ],
   "source": [
    "num = 16\n",
    "for i in range(15):\n",
    "    print(num)\n",
    "    print(hexabin(num))\n",
    "    num+=16"
   ]
  },
  {
   "cell_type": "markdown",
   "metadata": {},
   "source": [
    "Now that you have spent some time thinking about this problem, let us try to write these functions in another way:"
   ]
  },
  {
   "cell_type": "code",
   "execution_count": 21,
   "metadata": {},
   "outputs": [],
   "source": [
    "def to_bin(n):\n",
    "    if(n < 0):\n",
    "        print(\"Invalid input!\")\n",
    "        return\n",
    "    if(n == 0):\n",
    "        my_bin = \"0\"\n",
    "        return my_bin\n",
    "    my_bin = \"\"\n",
    "    while(n > 0):\n",
    "        my_bin = str(n%2) + my_bin\n",
    "        n = n//2\n",
    "    return my_bin"
   ]
  },
  {
   "cell_type": "code",
   "execution_count": 22,
   "metadata": {},
   "outputs": [],
   "source": [
    "def hex_mod_to_str(n):\n",
    "    if (n < 0 or n > 15):\n",
    "        print(\"Invalid input!\")\n",
    "        return\n",
    "    if (n < 10):\n",
    "        my_str = str(n)\n",
    "        return my_str\n",
    "    letters = ['a','b','c','d','e','f']\n",
    "    my_str = letters[n-10]\n",
    "    return my_str"
   ]
  },
  {
   "cell_type": "code",
   "execution_count": 23,
   "metadata": {},
   "outputs": [],
   "source": [
    "def to_hex(n):\n",
    "    if(n < 0):\n",
    "        print(\"Invalid input!\")\n",
    "        return\n",
    "    if(n == 0):\n",
    "        my_hex = \"0\"\n",
    "        return my_hex\n",
    "    my_hex = \"\"\n",
    "    while(n > 0):\n",
    "        my_hex = hex_mod_to_str(n%16) + my_hex\n",
    "        n = n//16\n",
    "    return my_hex"
   ]
  },
  {
   "cell_type": "code",
   "execution_count": 24,
   "metadata": {},
   "outputs": [],
   "source": [
    "def bin_and_hex(n):\n",
    "    my_bin = to_bin(n)\n",
    "    my_hex = to_hex(n)\n",
    "    return [my_bin, my_hex]"
   ]
  },
  {
   "cell_type": "markdown",
   "metadata": {},
   "source": [
    "Testing the function:"
   ]
  },
  {
   "cell_type": "code",
   "execution_count": 25,
   "metadata": {},
   "outputs": [
    {
     "name": "stdout",
     "output_type": "stream",
     "text": [
      "Decimal:  11000 \thexadecimal:  2af8 \t\tbinary:  10101011111000\n",
      "Decimal:  11001 \thexadecimal:  2af9 \t\tbinary:  10101011111001\n",
      "Decimal:  11002 \thexadecimal:  2afa \t\tbinary:  10101011111010\n",
      "Decimal:  11003 \thexadecimal:  2afb \t\tbinary:  10101011111011\n",
      "Decimal:  11004 \thexadecimal:  2afc \t\tbinary:  10101011111100\n",
      "Decimal:  11005 \thexadecimal:  2afd \t\tbinary:  10101011111101\n",
      "Decimal:  11006 \thexadecimal:  2afe \t\tbinary:  10101011111110\n",
      "Decimal:  11007 \thexadecimal:  2aff \t\tbinary:  10101011111111\n",
      "Decimal:  11008 \thexadecimal:  2b00 \t\tbinary:  10101100000000\n",
      "Decimal:  11009 \thexadecimal:  2b01 \t\tbinary:  10101100000001\n",
      "Decimal:  11010 \thexadecimal:  2b02 \t\tbinary:  10101100000010\n",
      "Decimal:  11011 \thexadecimal:  2b03 \t\tbinary:  10101100000011\n",
      "Decimal:  11012 \thexadecimal:  2b04 \t\tbinary:  10101100000100\n",
      "Decimal:  11013 \thexadecimal:  2b05 \t\tbinary:  10101100000101\n",
      "Decimal:  11014 \thexadecimal:  2b06 \t\tbinary:  10101100000110\n",
      "Decimal:  11015 \thexadecimal:  2b07 \t\tbinary:  10101100000111\n",
      "Decimal:  11016 \thexadecimal:  2b08 \t\tbinary:  10101100001000\n",
      "Decimal:  11017 \thexadecimal:  2b09 \t\tbinary:  10101100001001\n",
      "Decimal:  11018 \thexadecimal:  2b0a \t\tbinary:  10101100001010\n",
      "Decimal:  11019 \thexadecimal:  2b0b \t\tbinary:  10101100001011\n",
      "Decimal:  11020 \thexadecimal:  2b0c \t\tbinary:  10101100001100\n",
      "Decimal:  11021 \thexadecimal:  2b0d \t\tbinary:  10101100001101\n",
      "Decimal:  11022 \thexadecimal:  2b0e \t\tbinary:  10101100001110\n",
      "Decimal:  11023 \thexadecimal:  2b0f \t\tbinary:  10101100001111\n",
      "Decimal:  11024 \thexadecimal:  2b10 \t\tbinary:  10101100010000\n",
      "Decimal:  11025 \thexadecimal:  2b11 \t\tbinary:  10101100010001\n",
      "Decimal:  11026 \thexadecimal:  2b12 \t\tbinary:  10101100010010\n",
      "Decimal:  11027 \thexadecimal:  2b13 \t\tbinary:  10101100010011\n",
      "Decimal:  11028 \thexadecimal:  2b14 \t\tbinary:  10101100010100\n",
      "Decimal:  11029 \thexadecimal:  2b15 \t\tbinary:  10101100010101\n",
      "Decimal:  11030 \thexadecimal:  2b16 \t\tbinary:  10101100010110\n",
      "Decimal:  11031 \thexadecimal:  2b17 \t\tbinary:  10101100010111\n",
      "Decimal:  11032 \thexadecimal:  2b18 \t\tbinary:  10101100011000\n",
      "Decimal:  11033 \thexadecimal:  2b19 \t\tbinary:  10101100011001\n",
      "Decimal:  11034 \thexadecimal:  2b1a \t\tbinary:  10101100011010\n",
      "Decimal:  11035 \thexadecimal:  2b1b \t\tbinary:  10101100011011\n",
      "Decimal:  11036 \thexadecimal:  2b1c \t\tbinary:  10101100011100\n",
      "Decimal:  11037 \thexadecimal:  2b1d \t\tbinary:  10101100011101\n",
      "Decimal:  11038 \thexadecimal:  2b1e \t\tbinary:  10101100011110\n",
      "Decimal:  11039 \thexadecimal:  2b1f \t\tbinary:  10101100011111\n",
      "Decimal:  11040 \thexadecimal:  2b20 \t\tbinary:  10101100100000\n",
      "Decimal:  11041 \thexadecimal:  2b21 \t\tbinary:  10101100100001\n",
      "Decimal:  11042 \thexadecimal:  2b22 \t\tbinary:  10101100100010\n",
      "Decimal:  11043 \thexadecimal:  2b23 \t\tbinary:  10101100100011\n",
      "Decimal:  11044 \thexadecimal:  2b24 \t\tbinary:  10101100100100\n",
      "Decimal:  11045 \thexadecimal:  2b25 \t\tbinary:  10101100100101\n",
      "Decimal:  11046 \thexadecimal:  2b26 \t\tbinary:  10101100100110\n",
      "Decimal:  11047 \thexadecimal:  2b27 \t\tbinary:  10101100100111\n",
      "Decimal:  11048 \thexadecimal:  2b28 \t\tbinary:  10101100101000\n",
      "Decimal:  11049 \thexadecimal:  2b29 \t\tbinary:  10101100101001\n"
     ]
    }
   ],
   "source": [
    "for i in range(11000,11050):\n",
    "    [bin_s, hex_s] = bin_and_hex(i)\n",
    "    print(\"Decimal: \", i, \"\\thexadecimal: \", hex_s, \"\\t\\tbinary: \", bin_s)"
   ]
  }
 ],
 "metadata": {
  "kernelspec": {
   "display_name": "Python 3",
   "language": "python",
   "name": "python3"
  },
  "language_info": {
   "codemirror_mode": {
    "name": "ipython",
    "version": 3
   },
   "file_extension": ".py",
   "mimetype": "text/x-python",
   "name": "python",
   "nbconvert_exporter": "python",
   "pygments_lexer": "ipython3",
   "version": "3.8.5"
  }
 },
 "nbformat": 4,
 "nbformat_minor": 5
}
