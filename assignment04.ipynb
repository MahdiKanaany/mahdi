{
 "cells": [
  {
   "cell_type": "markdown",
   "id": "57b247a8-256c-43ba-aa4a-91f10c34d905",
   "metadata": {},
   "source": [
    "# Assignment #4"
   ]
  },
  {
   "cell_type": "markdown",
   "id": "554ea2bc-ff63-492a-bd59-d6ea4092bacf",
   "metadata": {},
   "source": [
    "## Task 1\n",
    "\n",
    "Fix your task 2 in assignment 2! Specifically, write the algorithm with hand and find what is the correct answer for n = 7.\n",
    "- Is you code giving the correct answer?\n",
    "- Do you know why you code produces a wrong answer for n >= 6 ?\n",
    "- How can you fix it?"
   ]
  },
  {
   "cell_type": "code",
   "execution_count": null,
   "id": "db358723-62cd-4a56-bcf3-2bb9231101b0",
   "metadata": {},
   "outputs": [],
   "source": []
  },
  {
   "cell_type": "markdown",
   "id": "1409d588-f9a4-4c27-8190-66eee08c3f14",
   "metadata": {},
   "source": [
    "## Task 2\n",
    "\n",
    "In assignment #3 task 1, you wrote a sorting function. Your job in this task is to improve its performance in terms of execution time. Look at the following cells: "
   ]
  },
  {
   "cell_type": "code",
   "execution_count": null,
   "id": "f3793583-0442-453d-9319-e6be848e2abe",
   "metadata": {},
   "outputs": [],
   "source": [
    "pip install ipynb"
   ]
  },
  {
   "cell_type": "code",
   "execution_count": 1,
   "id": "61ea3313-b72d-4b20-a5d5-ba9b9e79f96d",
   "metadata": {},
   "outputs": [],
   "source": [
    "from ipynb.fs.defs.assignment03 import sort as mahdi_sort\n",
    "import numpy as np\n",
    "import time\n",
    "np.random.seed(1)\n",
    "l= np.random.randn(40000)*100"
   ]
  },
  {
   "cell_type": "markdown",
   "id": "08588f12-6ead-4437-aaae-4d8c16e4c554",
   "metadata": {},
   "source": [
    "Sorting using numpy"
   ]
  },
  {
   "cell_type": "code",
   "execution_count": 2,
   "id": "db04c15e-67f4-47ea-9fe7-a04556ecca6f",
   "metadata": {},
   "outputs": [
    {
     "name": "stdout",
     "output_type": "stream",
     "text": [
      "Time elapsed:  0.0037450790405273438  seconds\n"
     ]
    }
   ],
   "source": [
    "t1=time.time()\n",
    "l_sorted_np = np.sort(l)\n",
    "t2=time.time()\n",
    "elapsed= t2 - t1\n",
    "print(\"Time elapsed: \",elapsed,\" seconds\")"
   ]
  },
  {
   "cell_type": "markdown",
   "id": "4b23836c-fc02-4945-adbe-b22427ca0066",
   "metadata": {},
   "source": [
    "Sorting using your function"
   ]
  },
  {
   "cell_type": "code",
   "execution_count": 3,
   "id": "0c1fcfcd-1fdc-469c-84f2-58eb69613ba1",
   "metadata": {},
   "outputs": [
    {
     "name": "stdout",
     "output_type": "stream",
     "text": [
      "Time elapsed:  44.84221577644348  seconds\n"
     ]
    }
   ],
   "source": [
    "t1=time.time()\n",
    "l_sorted_mahdi = mahdi_sort(list(l))\n",
    "t2=time.time()\n",
    "elapsed= t2 - t1\n",
    "print(\"Time elapsed: \",elapsed,\" seconds\")"
   ]
  },
  {
   "cell_type": "markdown",
   "id": "05e005c3-a5fd-4c96-9f29-1fe04ad3e069",
   "metadata": {},
   "source": [
    "Look that when the list gets bigger, how much time your algorithm requires to give the answer. Think about the ways you can reduce this time and have an algorithm with better performance."
   ]
  },
  {
   "cell_type": "code",
   "execution_count": null,
   "id": "5151b153-b0a9-42ff-bffb-85c5985fad59",
   "metadata": {},
   "outputs": [],
   "source": []
  },
  {
   "cell_type": "markdown",
   "id": "952fc731-96d1-457e-b321-24e5c11100e9",
   "metadata": {},
   "source": [
    "## Task 3\n",
    "\n",
    "In assignment #3 task 2, 3 and 4, your function does not work as intended. You are using a for loop outside the function to produce your results. The function should work just by calling it. Look at the following example:"
   ]
  },
  {
   "cell_type": "code",
   "execution_count": 4,
   "id": "fc63b23d-4105-41a2-b4dc-9b86b2d02bd8",
   "metadata": {},
   "outputs": [],
   "source": [
    "def print_triangle(n):\n",
    "    for i in range(n):\n",
    "        for j in range(0,i+1):\n",
    "            print(\"*\", end=\"\");\n",
    "        print()"
   ]
  },
  {
   "cell_type": "code",
   "execution_count": 5,
   "id": "8263cae6-f313-49da-993c-d78a62ac8373",
   "metadata": {},
   "outputs": [
    {
     "name": "stdout",
     "output_type": "stream",
     "text": [
      "*\n",
      "**\n",
      "***\n"
     ]
    }
   ],
   "source": [
    "print_triangle(3)"
   ]
  },
  {
   "cell_type": "markdown",
   "id": "68103ddc-dd95-46c9-8938-0fd52031d6ea",
   "metadata": {},
   "source": [
    "Do task 4 in assignment 3 again"
   ]
  },
  {
   "cell_type": "code",
   "execution_count": null,
   "id": "3c6f07f3-9327-4443-827f-105b30f54cc4",
   "metadata": {},
   "outputs": [],
   "source": []
  },
  {
   "cell_type": "markdown",
   "id": "f51ad693-e5e2-46b3-8d7c-4eb18e32f41a",
   "metadata": {},
   "source": [
    "Test your function. Do not change anything in this cell other than the function name which should be changed with the name you chose for your function."
   ]
  },
  {
   "cell_type": "code",
   "execution_count": null,
   "id": "152259b3-c50b-450d-8ffa-9e50147cc93b",
   "metadata": {},
   "outputs": [],
   "source": [
    "rects = [(2, 1, 7, 5), (4, 2, 3, 2), (1, 8, 9, 2), (7, 3, 4, 5), (11, 2, 1, 7), (9, 4, 3, 3)]\n",
    "size = (15, 15)\n",
    "for rect in rects:\n",
    "    print(\"\\nTest \", rects[0], \" and \", rect)\n",
    "    YOUR_FUNCTION(rects[0], rect, size)"
   ]
  },
  {
   "cell_type": "markdown",
   "id": "83372309-49f0-4835-884a-ceb68cfc3215",
   "metadata": {},
   "source": [
    "## Task 4\n",
    "\n",
    "The numbers we use normally are represented in [decimal numeral system](https://en.wikipedia.org/wiki/Decimal). Familiarize yourself with [binary numbers](https://en.wikipedia.org/wiki/Binary_number) and [hexadecimal numbers](https://en.wikipedia.org/wiki/Hexadecimal).\n",
    "\n",
    "Write a function which gets a decimal number as input and returns binary and hexadecimal representations stored as strings. For example:\n",
    "\n",
    "    [binary, hex] = YOUR_FUNCTION(155)\n",
    "    \n",
    "should result in two strings, binary = \"10011011\" and hex = \"9b\"\n",
    "\n",
    "You are **NOT** allowed to use build-in hex and bin functions!"
   ]
  },
  {
   "cell_type": "code",
   "execution_count": null,
   "id": "4f09fea4-b15b-4c5c-83ff-497729ebe1e2",
   "metadata": {},
   "outputs": [],
   "source": []
  },
  {
   "cell_type": "markdown",
   "id": "83c90e1a-8894-4e8c-923b-77523d893e72",
   "metadata": {},
   "source": [
    "Test your function:"
   ]
  },
  {
   "cell_type": "code",
   "execution_count": null,
   "id": "bc799380-0ec1-452c-ada6-f727b2a0c7ee",
   "metadata": {},
   "outputs": [],
   "source": [
    "for i in range(11000,11050):\n",
    "    [bin_s, hex_s] = YOUR_FUNCTION(i)\n",
    "    print(\"Decimal: \", i, \"\\thexadecimal: \", hex_s, \"\\t\\tbinary: \", bin_s)"
   ]
  }
 ],
 "metadata": {
  "kernelspec": {
   "display_name": "Python 3",
   "language": "python",
   "name": "python3"
  },
  "language_info": {
   "codemirror_mode": {
    "name": "ipython",
    "version": 3
   },
   "file_extension": ".py",
   "mimetype": "text/x-python",
   "name": "python",
   "nbconvert_exporter": "python",
   "pygments_lexer": "ipython3",
   "version": "3.8.8"
  }
 },
 "nbformat": 4,
 "nbformat_minor": 5
}
