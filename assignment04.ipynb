{
 "cells": [
  {
   "cell_type": "markdown",
   "metadata": {},
   "source": [
    "# Assignment #4"
   ]
  },
  {
   "cell_type": "markdown",
   "metadata": {},
   "source": [
    "## Task 1\n",
    "\n",
    "Fix your task 2 in assignment 2! Specifically, write the algorithm with hand and find what is the correct answer for n = 7.\n",
    "- Is you code giving the correct answer?\n",
    "- Do you know why you code produces a wrong answer for n >= 6 ?\n",
    "- How can you fix it?"
   ]
  },
  {
   "cell_type": "code",
   "execution_count": 4,
   "metadata": {},
   "outputs": [],
   "source": [
    "def mazrab_2(n):\n",
    "    if(n%2==0):\n",
    "        return True"
   ]
  },
  {
   "cell_type": "code",
   "execution_count": 8,
   "metadata": {},
   "outputs": [
    {
     "name": "stdout",
     "output_type": "stream",
     "text": [
      "0|2|4|6|8|10|12|7|8|9|10|11|12|13|\n"
     ]
    }
   ],
   "source": [
    "def alg2(n):\n",
    "    if(n==0):\n",
    "        return ''\n",
    "    elif(n==1):\n",
    "        return '01'\n",
    "    else:\n",
    "        s = ''\n",
    "        count = 0\n",
    "        for i in range(0,n*2):\n",
    "            if(mazrab_2(i)):\n",
    "                s+=str(i)\n",
    "                count+=1\n",
    "                s+='|'\n",
    "        start = n\n",
    "        for i in range(count):\n",
    "            s+=str(start)\n",
    "            s+='|'\n",
    "            start+=1\n",
    "        return s\n",
    "print(alg2(7))"
   ]
  },
  {
   "cell_type": "markdown",
   "metadata": {},
   "source": [
    "## Task 2\n",
    "\n",
    "In assignment #3 task 1, you wrote a sorting function. Your job in this task is to improve its performance in terms of execution time. Look at the following cells: "
   ]
  },
  {
   "cell_type": "code",
   "execution_count": 9,
   "metadata": {},
   "outputs": [
    {
     "name": "stdout",
     "output_type": "stream",
     "text": [
      "Collecting ipynb\n",
      "  Downloading ipynb-0.5.1-py3-none-any.whl (6.9 kB)\n",
      "Installing collected packages: ipynb\n",
      "Successfully installed ipynb-0.5.1\n",
      "Note: you may need to restart the kernel to use updated packages.\n"
     ]
    }
   ],
   "source": [
    "pip install ipynb"
   ]
  },
  {
   "cell_type": "code",
   "execution_count": 10,
   "metadata": {},
   "outputs": [],
   "source": [
    "from ipynb.fs.defs.assignment03 import sort as mahdi_sort\n",
    "import numpy as np\n",
    "import time\n",
    "np.random.seed(1)\n",
    "l= np.random.randn(40000)*100"
   ]
  },
  {
   "cell_type": "markdown",
   "metadata": {},
   "source": [
    "Sorting using numpy"
   ]
  },
  {
   "cell_type": "code",
   "execution_count": 11,
   "metadata": {},
   "outputs": [
    {
     "name": "stdout",
     "output_type": "stream",
     "text": [
      "Time elapsed:  0.023289918899536133  seconds\n"
     ]
    }
   ],
   "source": [
    "t1=time.time()\n",
    "l_sorted_np = np.sort(l)\n",
    "t2=time.time()\n",
    "elapsed= t2 - t1\n",
    "print(\"Time elapsed: \",elapsed,\" seconds\")"
   ]
  },
  {
   "cell_type": "markdown",
   "metadata": {},
   "source": [
    "Sorting using your function"
   ]
  },
  {
   "cell_type": "code",
   "execution_count": 3,
   "metadata": {},
   "outputs": [
    {
     "name": "stdout",
     "output_type": "stream",
     "text": [
      "Time elapsed:  44.84221577644348  seconds\n"
     ]
    }
   ],
   "source": [
    "t1=time.time()\n",
    "l_sorted_mahdi = mahdi_sort(list(l))\n",
    "t2=time.time()\n",
    "elapsed= t2 - t1\n",
    "print(\"Time elapsed: \",elapsed,\" seconds\")"
   ]
  },
  {
   "cell_type": "markdown",
   "metadata": {},
   "source": [
    "Look that when the list gets bigger, how much time your algorithm requires to give the answer. Think about the ways you can reduce this time and have an algorithm with better performance."
   ]
  },
  {
   "cell_type": "code",
   "execution_count": 24,
   "metadata": {},
   "outputs": [
    {
     "name": "stdout",
     "output_type": "stream",
     "text": [
      "[-1.2, 0, 1.5, 2.1, 3, 5.7]\n"
     ]
    }
   ],
   "source": [
    "def sort(input_list):\n",
    "    s = input_list[0]\n",
    "    output_list = []\n",
    "    for i in range(len(input_list)):\n",
    "        for item in input_list:\n",
    "            if(item<s):\n",
    "                s = item\n",
    "        output_list.append(s)\n",
    "        input_list.remove(s)\n",
    "        if(input_list!=[]):\n",
    "            s = input_list[0]\n",
    "    return output_list\n",
    "\n",
    "print(sort([2.1, 0, 5.7, -1.2, 3, 1.5]))"
   ]
  },
  {
   "cell_type": "markdown",
   "metadata": {},
   "source": [
    "## Task 3\n",
    "\n",
    "In assignment #3 task 2, 3 and 4, your function does not work as intended. You are using a for loop outside the function to produce your results. The function should work just by calling it. Look at the following example:"
   ]
  },
  {
   "cell_type": "code",
   "execution_count": 25,
   "metadata": {},
   "outputs": [],
   "source": [
    "def print_triangle(n):\n",
    "    for i in range(n):\n",
    "        for j in range(0,i+1):\n",
    "            print(\"*\", end=\"\");\n",
    "        print()"
   ]
  },
  {
   "cell_type": "code",
   "execution_count": 26,
   "metadata": {},
   "outputs": [
    {
     "name": "stdout",
     "output_type": "stream",
     "text": [
      "*\n",
      "**\n",
      "***\n"
     ]
    }
   ],
   "source": [
    "print_triangle(3)"
   ]
  },
  {
   "cell_type": "markdown",
   "metadata": {},
   "source": [
    "Do task 4 in assignment 3 again"
   ]
  },
  {
   "cell_type": "code",
   "execution_count": null,
   "metadata": {},
   "outputs": [],
   "source": []
  },
  {
   "cell_type": "markdown",
   "metadata": {},
   "source": [
    "Test your function. Do not change anything in this cell other than the function name which should be changed with the name you chose for your function."
   ]
  },
  {
   "cell_type": "code",
   "execution_count": null,
   "metadata": {},
   "outputs": [],
   "source": [
    "rects = [(2, 1, 7, 5), (4, 2, 3, 2), (1, 8, 9, 2), (7, 3, 4, 5), (11, 2, 1, 7), (9, 4, 3, 3)]\n",
    "size = (15, 15)\n",
    "for rect in rects:\n",
    "    print(\"\\nTest \", rects[0], \" and \", rect)\n",
    "    YOUR_FUNCTION(rects[0], rect, size)"
   ]
  },
  {
   "cell_type": "markdown",
   "metadata": {},
   "source": [
    "## Task 4\n",
    "\n",
    "The numbers we use normally are represented in [decimal numeral system](https://en.wikipedia.org/wiki/Decimal). Familiarize yourself with [binary numbers](https://en.wikipedia.org/wiki/Binary_number) and [hexadecimal numbers](https://en.wikipedia.org/wiki/Hexadecimal).\n",
    "\n",
    "Write a function which gets a decimal number as input and returns binary and hexadecimal representations stored as strings. For example:\n",
    "\n",
    "    [binary, hex] = YOUR_FUNCTION(155)\n",
    "    \n",
    "should result in two strings, binary = \"10011011\" and hex = \"9b\"\n",
    "\n",
    "You are **NOT** allowed to use build-in hex and bin functions!"
   ]
  },
  {
   "cell_type": "code",
   "execution_count": null,
   "metadata": {},
   "outputs": [],
   "source": []
  },
  {
   "cell_type": "markdown",
   "metadata": {},
   "source": [
    "Test your function:"
   ]
  },
  {
   "cell_type": "code",
   "execution_count": null,
   "metadata": {},
   "outputs": [],
   "source": [
    "for i in range(11000,11050):\n",
    "    [bin_s, hex_s] = YOUR_FUNCTION(i)\n",
    "    print(\"Decimal: \", i, \"\\thexadecimal: \", hex_s, \"\\t\\tbinary: \", bin_s)"
   ]
  }
 ],
 "metadata": {
  "kernelspec": {
   "display_name": "Python 3",
   "language": "python",
   "name": "python3"
  },
  "language_info": {
   "codemirror_mode": {
    "name": "ipython",
    "version": 3
   },
   "file_extension": ".py",
   "mimetype": "text/x-python",
   "name": "python",
   "nbconvert_exporter": "python",
   "pygments_lexer": "ipython3",
   "version": "3.8.5"
  }
 },
 "nbformat": 4,
 "nbformat_minor": 5
}
