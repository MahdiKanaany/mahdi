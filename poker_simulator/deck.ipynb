{
 "cells": [
  {
   "cell_type": "markdown",
   "metadata": {},
   "source": [
    "# Assignment #6 - deck\n",
    "\n",
    "Recall that we are representing each card(c_l) as a list of [value, suit]. Now we can define a new struct for deck/hand that consists of some cards. We'll use the same type for a deck of cards or a hand of cards, since both are just a set of cards. We will be representing decks and hands as a list of cards, that is:\n",
    "\n",
    "hand_1 = [c_l_1, c_l_2, ... , c_l_n]  \n",
    "deck = [c_l_1, c_l_2, ... , c_l_n]"
   ]
  },
  {
   "cell_type": "markdown",
   "metadata": {},
   "source": [
    "### Task 1\n",
    "In cards assignment, use your assert_card valid function in your cards_from_letters, card_from_num and print_card  functions to make sure the card is in the correct format."
   ]
  },
  {
   "cell_type": "markdown",
   "metadata": {},
   "source": [
    "### Task 2\n",
    "write the function print_hand(hand)\n",
    "\n",
    "This should print out the contents of a hand. It should print each card (recall that you already wrote print_card in cards.ipynb), and a space after each card.  Do not put a newline after the hand, as this function gets called to print a hand in the middle of a line of output.\n",
    "\n",
    "To load a function from your last work, you can run the following:  \n",
    "from ipynb.fs.defs.cards import your_function_name"
   ]
  },
  {
   "cell_type": "code",
   "execution_count": 4,
   "metadata": {},
   "outputs": [
    {
     "name": "stdout",
     "output_type": "stream",
     "text": [
      "Requirement already up-to-date: ipynb in c:\\users\\mahdi\\anaconda3\\lib\\site-packages (0.5.1)\n",
      "Note: you may need to restart the kernel to use updated packages.\n"
     ]
    }
   ],
   "source": [
    "pip install ipynb --upgrade"
   ]
  },
  {
   "cell_type": "code",
   "execution_count": 17,
   "metadata": {},
   "outputs": [
    {
     "ename": "ImportError",
     "evalue": "Could not import C:\\Users\\mahdi\\mahdi\\poker_simulator\\cards.ipynb for ipynb.fs.defs.cards: not a valid ipynb file",
     "output_type": "error",
     "traceback": [
      "\u001b[1;31m---------------------------------------------------------------------------\u001b[0m",
      "\u001b[1;31mUnicodeDecodeError\u001b[0m                        Traceback (most recent call last)",
      "\u001b[1;32m~\\anaconda3\\lib\\site-packages\\ipynb\\fs\\defs\\__init__.py\u001b[0m in \u001b[0;36mget_code\u001b[1;34m(self, fullname)\u001b[0m\n\u001b[0;32m     30\u001b[0m                 \u001b[1;32mtry\u001b[0m\u001b[1;33m:\u001b[0m\u001b[1;33m\u001b[0m\u001b[1;33m\u001b[0m\u001b[0m\n\u001b[1;32m---> 31\u001b[1;33m                     \u001b[0mnb\u001b[0m \u001b[1;33m=\u001b[0m \u001b[0mjson\u001b[0m\u001b[1;33m.\u001b[0m\u001b[0mload\u001b[0m\u001b[1;33m(\u001b[0m\u001b[0mf\u001b[0m\u001b[1;33m)\u001b[0m\u001b[1;33m\u001b[0m\u001b[1;33m\u001b[0m\u001b[0m\n\u001b[0m\u001b[0;32m     32\u001b[0m                 \u001b[1;32mexcept\u001b[0m \u001b[0mValueError\u001b[0m\u001b[1;33m:\u001b[0m\u001b[1;33m\u001b[0m\u001b[1;33m\u001b[0m\u001b[0m\n",
      "\u001b[1;32m~\\anaconda3\\lib\\json\\__init__.py\u001b[0m in \u001b[0;36mload\u001b[1;34m(fp, cls, object_hook, parse_float, parse_int, parse_constant, object_pairs_hook, **kw)\u001b[0m\n\u001b[0;32m    292\u001b[0m     \"\"\"\n\u001b[1;32m--> 293\u001b[1;33m     return loads(fp.read(),\n\u001b[0m\u001b[0;32m    294\u001b[0m         \u001b[0mcls\u001b[0m\u001b[1;33m=\u001b[0m\u001b[0mcls\u001b[0m\u001b[1;33m,\u001b[0m \u001b[0mobject_hook\u001b[0m\u001b[1;33m=\u001b[0m\u001b[0mobject_hook\u001b[0m\u001b[1;33m,\u001b[0m\u001b[1;33m\u001b[0m\u001b[1;33m\u001b[0m\u001b[0m\n",
      "\u001b[1;32m~\\anaconda3\\lib\\encodings\\cp1252.py\u001b[0m in \u001b[0;36mdecode\u001b[1;34m(self, input, final)\u001b[0m\n\u001b[0;32m     22\u001b[0m     \u001b[1;32mdef\u001b[0m \u001b[0mdecode\u001b[0m\u001b[1;33m(\u001b[0m\u001b[0mself\u001b[0m\u001b[1;33m,\u001b[0m \u001b[0minput\u001b[0m\u001b[1;33m,\u001b[0m \u001b[0mfinal\u001b[0m\u001b[1;33m=\u001b[0m\u001b[1;32mFalse\u001b[0m\u001b[1;33m)\u001b[0m\u001b[1;33m:\u001b[0m\u001b[1;33m\u001b[0m\u001b[1;33m\u001b[0m\u001b[0m\n\u001b[1;32m---> 23\u001b[1;33m         \u001b[1;32mreturn\u001b[0m \u001b[0mcodecs\u001b[0m\u001b[1;33m.\u001b[0m\u001b[0mcharmap_decode\u001b[0m\u001b[1;33m(\u001b[0m\u001b[0minput\u001b[0m\u001b[1;33m,\u001b[0m\u001b[0mself\u001b[0m\u001b[1;33m.\u001b[0m\u001b[0merrors\u001b[0m\u001b[1;33m,\u001b[0m\u001b[0mdecoding_table\u001b[0m\u001b[1;33m)\u001b[0m\u001b[1;33m[\u001b[0m\u001b[1;36m0\u001b[0m\u001b[1;33m]\u001b[0m\u001b[1;33m\u001b[0m\u001b[1;33m\u001b[0m\u001b[0m\n\u001b[0m\u001b[0;32m     24\u001b[0m \u001b[1;33m\u001b[0m\u001b[0m\n",
      "\u001b[1;31mUnicodeDecodeError\u001b[0m: 'charmap' codec can't decode byte 0x9d in position 1404: character maps to <undefined>",
      "\nDuring handling of the above exception, another exception occurred:\n",
      "\u001b[1;31mImportError\u001b[0m                               Traceback (most recent call last)",
      "\u001b[1;32m<ipython-input-17-3c6bc9482197>\u001b[0m in \u001b[0;36m<module>\u001b[1;34m\u001b[0m\n\u001b[1;32m----> 1\u001b[1;33m \u001b[1;32mfrom\u001b[0m \u001b[0mipynb\u001b[0m\u001b[1;33m.\u001b[0m\u001b[0mfs\u001b[0m\u001b[1;33m.\u001b[0m\u001b[0mdefs\u001b[0m\u001b[1;33m.\u001b[0m\u001b[0mcards\u001b[0m \u001b[1;32mimport\u001b[0m \u001b[0mprint_card\u001b[0m\u001b[1;33m\u001b[0m\u001b[1;33m\u001b[0m\u001b[0m\n\u001b[0m\u001b[0;32m      2\u001b[0m \u001b[1;32mfrom\u001b[0m \u001b[0mipynb\u001b[0m\u001b[1;33m.\u001b[0m\u001b[0mfs\u001b[0m\u001b[1;33m.\u001b[0m\u001b[0mdefs\u001b[0m\u001b[1;33m.\u001b[0m\u001b[0mcards\u001b[0m \u001b[1;32mimport\u001b[0m \u001b[0massert_card_valid\u001b[0m\u001b[1;33m\u001b[0m\u001b[1;33m\u001b[0m\u001b[0m\n\u001b[0;32m      3\u001b[0m \u001b[1;32mdef\u001b[0m \u001b[0mprint_hand\u001b[0m\u001b[1;33m(\u001b[0m\u001b[0mhand\u001b[0m\u001b[1;33m)\u001b[0m\u001b[1;33m:\u001b[0m\u001b[1;33m\u001b[0m\u001b[1;33m\u001b[0m\u001b[0m\n\u001b[0;32m      4\u001b[0m     \u001b[1;32mfor\u001b[0m \u001b[0mc_l\u001b[0m \u001b[1;32min\u001b[0m \u001b[0mhand\u001b[0m\u001b[1;33m:\u001b[0m\u001b[1;33m\u001b[0m\u001b[1;33m\u001b[0m\u001b[0m\n\u001b[0;32m      5\u001b[0m         \u001b[0mp\u001b[0m \u001b[1;33m=\u001b[0m \u001b[0massert_card_valid\u001b[0m\u001b[1;33m\u001b[0m\u001b[1;33m\u001b[0m\u001b[0m\n",
      "\u001b[1;32m~\\anaconda3\\lib\\site-packages\\ipynb\\fs\\defs\\__init__.py\u001b[0m in \u001b[0;36mget_code\u001b[1;34m(self, fullname)\u001b[0m\n\u001b[0;32m     32\u001b[0m                 \u001b[1;32mexcept\u001b[0m \u001b[0mValueError\u001b[0m\u001b[1;33m:\u001b[0m\u001b[1;33m\u001b[0m\u001b[1;33m\u001b[0m\u001b[0m\n\u001b[0;32m     33\u001b[0m                     \u001b[1;31m# This is if it isn't a valid JSON file at all\u001b[0m\u001b[1;33m\u001b[0m\u001b[1;33m\u001b[0m\u001b[1;33m\u001b[0m\u001b[0m\n\u001b[1;32m---> 34\u001b[1;33m                     raise ImportError('Could not import {path} for {fn}: not a valid ipynb file'.format(\n\u001b[0m\u001b[0;32m     35\u001b[0m                         \u001b[0mpath\u001b[0m\u001b[1;33m=\u001b[0m\u001b[0mself\u001b[0m\u001b[1;33m.\u001b[0m\u001b[0mpath\u001b[0m\u001b[1;33m,\u001b[0m\u001b[1;33m\u001b[0m\u001b[1;33m\u001b[0m\u001b[0m\n\u001b[0;32m     36\u001b[0m                         \u001b[0mfn\u001b[0m\u001b[1;33m=\u001b[0m\u001b[0mfullname\u001b[0m\u001b[1;33m\u001b[0m\u001b[1;33m\u001b[0m\u001b[0m\n",
      "\u001b[1;31mImportError\u001b[0m: Could not import C:\\Users\\mahdi\\mahdi\\poker_simulator\\cards.ipynb for ipynb.fs.defs.cards: not a valid ipynb file"
     ]
    }
   ],
   "source": [
    "def print_hand(hand):\n",
    "    for c_l in hand:\n",
    "        p = assert_card_valid\n",
    "        if(p==False):\n",
    "            return False\n",
    "        else:\n",
    "            print_card(c_l)"
   ]
  },
  {
   "cell_type": "markdown",
   "metadata": {},
   "source": [
    "# I can`t import my functions #\n",
    "This error send to me. what should i do?\n",
    "\n",
    "i will not write this function"
   ]
  },
  {
   "cell_type": "markdown",
   "metadata": {},
   "source": [
    "Test your function:"
   ]
  },
  {
   "cell_type": "code",
   "execution_count": 5,
   "metadata": {},
   "outputs": [
    {
     "ename": "NameError",
     "evalue": "name 'print_hand' is not defined",
     "output_type": "error",
     "traceback": [
      "\u001b[1;31m---------------------------------------------------------------------------\u001b[0m",
      "\u001b[1;31mNameError\u001b[0m                                 Traceback (most recent call last)",
      "\u001b[1;32m<ipython-input-5-f2ccd29d431e>\u001b[0m in \u001b[0;36m<module>\u001b[1;34m\u001b[0m\n\u001b[0;32m      4\u001b[0m     \u001b[1;33m[\u001b[0m\u001b[1;33m[\u001b[0m\u001b[1;36m12\u001b[0m\u001b[1;33m,\u001b[0m\u001b[1;36m1\u001b[0m\u001b[1;33m]\u001b[0m\u001b[1;33m,\u001b[0m \u001b[1;33m[\u001b[0m\u001b[1;36m6\u001b[0m\u001b[1;33m,\u001b[0m\u001b[1;36m3\u001b[0m\u001b[1;33m]\u001b[0m\u001b[1;33m,\u001b[0m \u001b[1;33m[\u001b[0m\u001b[1;36m5\u001b[0m\u001b[1;33m,\u001b[0m\u001b[1;36m1\u001b[0m\u001b[1;33m]\u001b[0m\u001b[1;33m]\u001b[0m\u001b[1;33m,\u001b[0m\u001b[1;33m\u001b[0m\u001b[1;33m\u001b[0m\u001b[0m\n\u001b[0;32m      5\u001b[0m     [[10,3], [7,2], [9,3], [4,0]]]:\n\u001b[1;32m----> 6\u001b[1;33m     \u001b[0mprint_hand\u001b[0m\u001b[1;33m(\u001b[0m\u001b[0mhand\u001b[0m\u001b[1;33m)\u001b[0m\u001b[1;33m\u001b[0m\u001b[1;33m\u001b[0m\u001b[0m\n\u001b[0m\u001b[0;32m      7\u001b[0m     \u001b[0mprint\u001b[0m\u001b[1;33m(\u001b[0m\u001b[1;33m)\u001b[0m\u001b[1;33m\u001b[0m\u001b[1;33m\u001b[0m\u001b[0m\n",
      "\u001b[1;31mNameError\u001b[0m: name 'print_hand' is not defined"
     ]
    }
   ],
   "source": [
    "#do not change anything in this cell\n",
    "for hand in [ \n",
    "    [[2,0], [8,0], [10,1], [11,0], [13,3], [4,2], [9,1]],\n",
    "    [[12,1], [6,3], [5,1]], \n",
    "    [[10,3], [7,2], [9,3], [4,0]]]:\n",
    "    print_hand(hand)\n",
    "    print()"
   ]
  },
  {
   "cell_type": "markdown",
   "metadata": {},
   "source": [
    "### Task 3\n",
    "write the function deck_contains(deck, c_l); (recall that deck and hand have the same structure, they both consist of cards)\n",
    "\n",
    "This function should check if a deck contains a particular card or not.  If the deck does contain the card, this function should return True. Otherwise, it should return False. (You will use this later to build the deck of remaining cards which are not in any player's hand)."
   ]
  },
  {
   "cell_type": "code",
   "execution_count": 15,
   "metadata": {},
   "outputs": [],
   "source": [
    "def deck_contains(deck, c_l):\n",
    "    if c_l in deck:\n",
    "        return True\n",
    "    else:\n",
    "        return False"
   ]
  },
  {
   "cell_type": "markdown",
   "metadata": {},
   "source": [
    "Test your function:"
   ]
  },
  {
   "cell_type": "code",
   "execution_count": 16,
   "metadata": {},
   "outputs": [
    {
     "name": "stdout",
     "output_type": "stream",
     "text": [
      "True\n",
      "False\n",
      "True\n"
     ]
    }
   ],
   "source": [
    "#do not change anything in this cell\n",
    "for deck in [ \n",
    "    [[2,0], [8,0], [10,1], [11,0], [13,3], [7,2], [9,1]],\n",
    "    [[12,1], [6,3], [5,1]], \n",
    "    [[10,3], [7,2], [9,3], [4,0]]]:\n",
    "    print(deck_contains(deck,[7,2]))"
   ]
  },
  {
   "cell_type": "markdown",
   "metadata": {},
   "source": [
    "### Task 4\n",
    "Write the function shuffle(deck)\n",
    "\n",
    "This function takes in a deck an shuffles it, randomly permuting the order of the cards. There are MANY valid ways to shuffle a deck of cards---I'll leave the specifics of the algorithm design up to you. However, you will want to use a function to generate pseudo-random numbers. Several packages offer random generating functions and you are free to choose any of them. For example, numpy is a useful package which also has [random generation functions](https://numpy.org/doc/1.16/reference/routines.random.html). You should take a small number of cards, and think about ways to shuffle them that involve using random numbers to swap their order, or pick positions for them, or similar principles."
   ]
  },
  {
   "cell_type": "code",
   "execution_count": 8,
   "metadata": {},
   "outputs": [],
   "source": [
    "import numpy as np\n",
    "def shuffle(deck):\n",
    "    np.random.shuffle(deck)\n",
    "    return deck"
   ]
  },
  {
   "cell_type": "markdown",
   "metadata": {},
   "source": [
    "Test your function:"
   ]
  },
  {
   "cell_type": "code",
   "execution_count": 9,
   "metadata": {},
   "outputs": [
    {
     "name": "stdout",
     "output_type": "stream",
     "text": [
      "Not a good shuffle in deck:\n",
      " [[12, 0], [11, 2], [10, 0], [8, 0], [13, 1], [2, 1], [11, 3], [6, 0], [7, 3], [5, 2]]\n",
      "Not a good shuffle in deck:\n",
      " [[7, 0], [9, 2], [4, 3], [13, 2], [12, 0], [8, 2], [14, 1], [5, 2], [3, 2], [3, 1], [10, 2]]\n",
      "Not a good shuffle in deck:\n",
      " [[2, 1], [2, 0], [9, 2], [3, 1], [13, 1], [6, 2], [7, 0], [9, 0], [6, 3], [6, 0], [11, 2], [13, 3]]\n",
      "Not a good shuffle in deck:\n",
      " [[11, 1], [6, 3], [14, 3], [14, 1], [5, 3], [10, 1], [14, 0], [12, 3], [5, 1], [2, 0], [14, 3], [12, 0], [9, 0], [5, 2], [7, 2], [14, 1], [8, 1], [6, 3]]\n",
      "Not a good shuffle in deck:\n",
      " [[2, 0], [12, 0], [9, 2], [12, 0], [3, 0], [10, 1], [4, 2], [2, 0], [13, 0], [11, 1], [10, 3], [14, 3], [14, 3], [8, 1], [14, 1], [11, 3], [12, 0], [4, 3], [5, 0], [14, 0], [6, 2], [10, 1], [13, 2], [8, 3]]\n",
      "Not a good shuffle in deck:\n",
      " [[3, 3], [11, 2], [6, 0], [6, 3], [7, 2], [4, 1], [5, 3], [4, 2], [12, 3], [3, 0], [2, 3], [3, 2], [8, 1], [13, 0], [4, 3], [3, 1], [5, 0], [5, 1], [4, 0], [11, 0], [14, 0], [4, 3], [8, 2], [7, 3], [9, 0], [2, 1], [13, 0], [4, 1]]\n",
      "Not a good shuffle in deck:\n",
      " [[5, 0], [2, 0], [8, 3], [14, 3], [4, 2], [4, 2], [11, 1], [7, 1], [8, 0], [8, 1], [14, 3], [14, 1], [14, 3], [13, 1], [3, 1], [10, 3], [5, 2], [11, 1], [13, 3], [4, 1], [5, 2], [5, 2], [2, 1], [3, 3], [8, 1], [3, 3], [7, 2], [3, 3], [5, 3], [3, 3]]\n",
      "Not a good shuffle in deck:\n",
      " [[8, 3], [7, 2], [6, 1], [8, 3], [5, 0], [14, 2], [11, 0], [11, 3], [10, 3], [12, 2], [9, 2], [7, 1], [2, 1], [9, 2], [13, 3], [14, 2], [2, 3], [7, 2], [3, 2], [2, 3], [5, 1], [8, 2], [12, 3], [12, 1], [6, 3], [12, 2], [10, 0], [14, 3], [11, 1], [4, 1], [7, 1], [12, 1], [11, 3], [7, 0], [5, 0], [2, 1], [11, 1], [4, 1], [6, 3], [3, 3], [11, 3], [5, 0], [5, 2], [5, 1], [12, 1], [13, 1], [4, 1]]\n"
     ]
    }
   ],
   "source": [
    "#do not change anything in this cell\n",
    "import numpy as np\n",
    "np.random.seed(3)\n",
    "decks = []\n",
    "for i in range(10,53):\n",
    "    deck = []\n",
    "    for j in range (i):\n",
    "        card = [np.random.randint(2,15),np.random.randint(0,4)]\n",
    "        deck.append(card)\n",
    "    decks.append(deck)\n",
    "for deck in decks:\n",
    "    deck_1 = deck.copy()\n",
    "    shuffle(deck)\n",
    "    deck_2 = deck.copy()\n",
    "    diff1 = 0\n",
    "    diff2 = 0\n",
    "    for i in range(len(deck)):\n",
    "        if (deck_1[i] != deck_2[i]):\n",
    "            diff1 += 1\n",
    "        if (i+1 < len(deck) and deck_1[i] != deck_2[i+1]):\n",
    "            diff2 += 1\n",
    "    if (diff1 < len(deck)*9//10 or diff2 < len(deck)*9//10):\n",
    "        print(\"Not a good shuffle in deck:\\n\", deck)\n"
   ]
  },
  {
   "cell_type": "code",
   "execution_count": 10,
   "metadata": {},
   "outputs": [
    {
     "name": "stdout",
     "output_type": "stream",
     "text": [
      "Not a very good shuffle!\n"
     ]
    }
   ],
   "source": [
    "#do not change anything in this cell\n",
    "base_hand = [[2,0], [8,0], [10,1], [11,0], [13,3]]\n",
    "hand = base_hand.copy()\n",
    "counts = {}\n",
    "for i in range(5000000):\n",
    "    shuffle(hand)\n",
    "    order = \"\"\n",
    "    for j in range(5):\n",
    "        for k in range(5):\n",
    "            if (hand[j] == base_hand[k]):\n",
    "                order = order + str(k)\n",
    "                continue\n",
    "    counts[order] = counts.get(order,0)+1\n",
    "n = 0\n",
    "for v in counts.values():\n",
    "    if (v-4166 > 80):\n",
    "        n += 1\n",
    "if (n > 1):\n",
    "    print(\"Not a very good shuffle!\")\n",
    "else:\n",
    "    print(\"Nice job, very good shuffle!\")"
   ]
  },
  {
   "cell_type": "markdown",
   "metadata": {},
   "source": [
    "### Task 5\n",
    "function assert_full_deck(deck);\n",
    "\n",
    "This function should check that the passed in deck contains ever valid card exactly once.  If the deck has any problems, this function should fail an assert (return false). This will be used to help you test your deck shuffling: we will shuffle a full deck, then call assert_full_deck, so that you can identfiy problems with the deck. You can print any error messages you want if there is a problem.\n",
    "Hint: you already wrote deck_contains."
   ]
  },
  {
   "cell_type": "code",
   "execution_count": 11,
   "metadata": {},
   "outputs": [],
   "source": [
    "def assert_full_deck(deck):\n",
    "    deck_contains(deck)"
   ]
  },
  {
   "cell_type": "markdown",
   "metadata": {},
   "source": [
    "Test your function:"
   ]
  },
  {
   "cell_type": "code",
   "execution_count": 12,
   "metadata": {},
   "outputs": [
    {
     "ename": "ImportError",
     "evalue": "Could not import C:\\Users\\mahdi\\mahdi\\poker_simulator\\cards.ipynb for ipynb.fs.defs.cards: not a valid ipynb file",
     "output_type": "error",
     "traceback": [
      "\u001b[1;31m---------------------------------------------------------------------------\u001b[0m",
      "\u001b[1;31mUnicodeDecodeError\u001b[0m                        Traceback (most recent call last)",
      "\u001b[1;32m~\\anaconda3\\lib\\site-packages\\ipynb\\fs\\defs\\__init__.py\u001b[0m in \u001b[0;36mget_code\u001b[1;34m(self, fullname)\u001b[0m\n\u001b[0;32m     30\u001b[0m                 \u001b[1;32mtry\u001b[0m\u001b[1;33m:\u001b[0m\u001b[1;33m\u001b[0m\u001b[1;33m\u001b[0m\u001b[0m\n\u001b[1;32m---> 31\u001b[1;33m                     \u001b[0mnb\u001b[0m \u001b[1;33m=\u001b[0m \u001b[0mjson\u001b[0m\u001b[1;33m.\u001b[0m\u001b[0mload\u001b[0m\u001b[1;33m(\u001b[0m\u001b[0mf\u001b[0m\u001b[1;33m)\u001b[0m\u001b[1;33m\u001b[0m\u001b[1;33m\u001b[0m\u001b[0m\n\u001b[0m\u001b[0;32m     32\u001b[0m                 \u001b[1;32mexcept\u001b[0m \u001b[0mValueError\u001b[0m\u001b[1;33m:\u001b[0m\u001b[1;33m\u001b[0m\u001b[1;33m\u001b[0m\u001b[0m\n",
      "\u001b[1;32m~\\anaconda3\\lib\\json\\__init__.py\u001b[0m in \u001b[0;36mload\u001b[1;34m(fp, cls, object_hook, parse_float, parse_int, parse_constant, object_pairs_hook, **kw)\u001b[0m\n\u001b[0;32m    292\u001b[0m     \"\"\"\n\u001b[1;32m--> 293\u001b[1;33m     return loads(fp.read(),\n\u001b[0m\u001b[0;32m    294\u001b[0m         \u001b[0mcls\u001b[0m\u001b[1;33m=\u001b[0m\u001b[0mcls\u001b[0m\u001b[1;33m,\u001b[0m \u001b[0mobject_hook\u001b[0m\u001b[1;33m=\u001b[0m\u001b[0mobject_hook\u001b[0m\u001b[1;33m,\u001b[0m\u001b[1;33m\u001b[0m\u001b[1;33m\u001b[0m\u001b[0m\n",
      "\u001b[1;32m~\\anaconda3\\lib\\encodings\\cp1252.py\u001b[0m in \u001b[0;36mdecode\u001b[1;34m(self, input, final)\u001b[0m\n\u001b[0;32m     22\u001b[0m     \u001b[1;32mdef\u001b[0m \u001b[0mdecode\u001b[0m\u001b[1;33m(\u001b[0m\u001b[0mself\u001b[0m\u001b[1;33m,\u001b[0m \u001b[0minput\u001b[0m\u001b[1;33m,\u001b[0m \u001b[0mfinal\u001b[0m\u001b[1;33m=\u001b[0m\u001b[1;32mFalse\u001b[0m\u001b[1;33m)\u001b[0m\u001b[1;33m:\u001b[0m\u001b[1;33m\u001b[0m\u001b[1;33m\u001b[0m\u001b[0m\n\u001b[1;32m---> 23\u001b[1;33m         \u001b[1;32mreturn\u001b[0m \u001b[0mcodecs\u001b[0m\u001b[1;33m.\u001b[0m\u001b[0mcharmap_decode\u001b[0m\u001b[1;33m(\u001b[0m\u001b[0minput\u001b[0m\u001b[1;33m,\u001b[0m\u001b[0mself\u001b[0m\u001b[1;33m.\u001b[0m\u001b[0merrors\u001b[0m\u001b[1;33m,\u001b[0m\u001b[0mdecoding_table\u001b[0m\u001b[1;33m)\u001b[0m\u001b[1;33m[\u001b[0m\u001b[1;36m0\u001b[0m\u001b[1;33m]\u001b[0m\u001b[1;33m\u001b[0m\u001b[1;33m\u001b[0m\u001b[0m\n\u001b[0m\u001b[0;32m     24\u001b[0m \u001b[1;33m\u001b[0m\u001b[0m\n",
      "\u001b[1;31mUnicodeDecodeError\u001b[0m: 'charmap' codec can't decode byte 0x9d in position 1404: character maps to <undefined>",
      "\nDuring handling of the above exception, another exception occurred:\n",
      "\u001b[1;31mImportError\u001b[0m                               Traceback (most recent call last)",
      "\u001b[1;32m<ipython-input-12-d485bb9dddae>\u001b[0m in \u001b[0;36m<module>\u001b[1;34m\u001b[0m\n\u001b[0;32m      1\u001b[0m \u001b[1;31m#do not change anything in this cell\u001b[0m\u001b[1;33m\u001b[0m\u001b[1;33m\u001b[0m\u001b[1;33m\u001b[0m\u001b[0m\n\u001b[1;32m----> 2\u001b[1;33m \u001b[1;32mfrom\u001b[0m \u001b[0mipynb\u001b[0m\u001b[1;33m.\u001b[0m\u001b[0mfs\u001b[0m\u001b[1;33m.\u001b[0m\u001b[0mdefs\u001b[0m\u001b[1;33m.\u001b[0m\u001b[0mcards\u001b[0m \u001b[1;32mimport\u001b[0m \u001b[0mcard_from_num\u001b[0m\u001b[1;33m\u001b[0m\u001b[1;33m\u001b[0m\u001b[0m\n\u001b[0m\u001b[0;32m      3\u001b[0m \u001b[0mdeck\u001b[0m \u001b[1;33m=\u001b[0m \u001b[1;33m[\u001b[0m\u001b[1;33m]\u001b[0m\u001b[1;33m\u001b[0m\u001b[1;33m\u001b[0m\u001b[0m\n\u001b[0;32m      4\u001b[0m \u001b[1;32mfor\u001b[0m \u001b[0mi\u001b[0m \u001b[1;32min\u001b[0m \u001b[0mrange\u001b[0m\u001b[1;33m(\u001b[0m\u001b[1;36m52\u001b[0m\u001b[1;33m)\u001b[0m\u001b[1;33m:\u001b[0m\u001b[1;33m\u001b[0m\u001b[1;33m\u001b[0m\u001b[0m\n\u001b[0;32m      5\u001b[0m     \u001b[0mdeck\u001b[0m\u001b[1;33m.\u001b[0m\u001b[0mappend\u001b[0m\u001b[1;33m(\u001b[0m\u001b[0mcard_from_num\u001b[0m\u001b[1;33m(\u001b[0m\u001b[0mi\u001b[0m\u001b[1;33m)\u001b[0m\u001b[1;33m)\u001b[0m\u001b[1;33m\u001b[0m\u001b[1;33m\u001b[0m\u001b[0m\n",
      "\u001b[1;32m~\\anaconda3\\lib\\site-packages\\ipynb\\fs\\defs\\__init__.py\u001b[0m in \u001b[0;36mget_code\u001b[1;34m(self, fullname)\u001b[0m\n\u001b[0;32m     32\u001b[0m                 \u001b[1;32mexcept\u001b[0m \u001b[0mValueError\u001b[0m\u001b[1;33m:\u001b[0m\u001b[1;33m\u001b[0m\u001b[1;33m\u001b[0m\u001b[0m\n\u001b[0;32m     33\u001b[0m                     \u001b[1;31m# This is if it isn't a valid JSON file at all\u001b[0m\u001b[1;33m\u001b[0m\u001b[1;33m\u001b[0m\u001b[1;33m\u001b[0m\u001b[0m\n\u001b[1;32m---> 34\u001b[1;33m                     raise ImportError('Could not import {path} for {fn}: not a valid ipynb file'.format(\n\u001b[0m\u001b[0;32m     35\u001b[0m                         \u001b[0mpath\u001b[0m\u001b[1;33m=\u001b[0m\u001b[0mself\u001b[0m\u001b[1;33m.\u001b[0m\u001b[0mpath\u001b[0m\u001b[1;33m,\u001b[0m\u001b[1;33m\u001b[0m\u001b[1;33m\u001b[0m\u001b[0m\n\u001b[0;32m     36\u001b[0m                         \u001b[0mfn\u001b[0m\u001b[1;33m=\u001b[0m\u001b[0mfullname\u001b[0m\u001b[1;33m\u001b[0m\u001b[1;33m\u001b[0m\u001b[0m\n",
      "\u001b[1;31mImportError\u001b[0m: Could not import C:\\Users\\mahdi\\mahdi\\poker_simulator\\cards.ipynb for ipynb.fs.defs.cards: not a valid ipynb file"
     ]
    }
   ],
   "source": [
    "#do not change anything in this cell\n",
    "from ipynb.fs.defs.cards import card_from_num\n",
    "deck = []\n",
    "for i in range(52):\n",
    "    deck.append(card_from_num(i))\n",
    "print(\"Test 1, should be true: \",assert_full_deck(deck))\n",
    "shuffle(deck)\n",
    "print(\"Test 2, should be true: \",assert_full_deck(deck))\n",
    "shuffle(deck)\n",
    "print(\"Test 3, should be true: \",assert_full_deck(deck))\n",
    "shuffle(deck)\n",
    "print(\"Test 4, should be true: \",assert_full_deck(deck))\n",
    "deck.remove(deck[10])\n",
    "print(\"Test 5, should be false: \",assert_full_deck(deck))\n"
   ]
  },
  {
   "cell_type": "markdown",
   "metadata": {},
   "source": [
    "# The error is here too #"
   ]
  }
 ],
 "metadata": {
  "interpreter": {
   "hash": "916dbcbb3f70747c44a77c7bcd40155683ae19c65e1c03b4aa3499c5328201f1"
  },
  "kernelspec": {
   "display_name": "Python 3",
   "language": "python",
   "name": "python3"
  },
  "language_info": {
   "codemirror_mode": {
    "name": "ipython",
    "version": 3
   },
   "file_extension": ".py",
   "mimetype": "text/x-python",
   "name": "python",
   "nbconvert_exporter": "python",
   "pygments_lexer": "ipython3",
   "version": "3.8.5"
  }
 },
 "nbformat": 4,
 "nbformat_minor": 4
}
