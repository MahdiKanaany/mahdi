{
 "cells": [
  {
   "cell_type": "markdown",
   "metadata": {},
   "source": [
    "# Assignment #5 - cards\n",
    "\n",
    "In a poker game, we have 52 individual cards. Each card has a **value** and a **suit**.\n",
    "Values can be between 2 to 14 inclusive. 11 corresponds to Jack, 12 to Queen, 13 to King and 14 to Ace.  \n",
    "There are 4 suits, being **clubs**, **diamonds**, **hearts** and **spades**.  \n",
    "\n",
    "From now on, we will represent each card in three ways, by a number between 1 and 52 (c_n), by a list of [value, suit] (c_l) or by a string of value and suit concatenated (c_s).  \n",
    "In 52 number representation (0 - 51), the first 13 cards will be Spades, the second 13 Hearts, the third 13 Diamonds and the 4th Clubs.  \n",
    "In list representation, values are represented by a number between 2 to 14 and suits with a number between 0 to 3. corresponding to the order spades, hearts, diamonds and clubs.  \n",
    "In string representation, we have exactly one symbol for the value and one for the suits. For values, 0 corresponds to 10, J to Jack, Q to Queen, K to King and A to Ace. For suits, s corresponds to Spades, h to Hearts, d to Diamonds and c to Clubs.  \n",
    "\n",
    "For example:  \n",
    "- 8 of spades can be represented as: c_n = 6 or c_l = [8 , 0] or c_s = \"8s\"\n",
    "- Queen of hearts: c_n = 23 , c_l = [12 , 1] , c_s = “Qh”\n",
    "- 10 of clubs: c_n = 47 , c_l = [10, 3] , c_s = “0c”"
   ]
  },
  {
   "cell_type": "markdown",
   "metadata": {},
   "source": [
    "write the function assert_card_valid(c_l);\n",
    "\n",
    "This function should check that the card passed in has valid values. In particular, its value should be between 2 and 14 (inclusive of both), and its suit should be between 0 and 3 (inclusive of both). If it is not valid, it should print an error message."
   ]
  },
  {
   "cell_type": "code",
   "execution_count": null,
   "metadata": {},
   "outputs": [],
   "source": [
    "def assert_card_valid(c_l):\n",
    "    "
   ]
  },
  {
   "cell_type": "markdown",
   "metadata": {},
   "source": [
    "Test your function:"
   ]
  },
  {
   "cell_type": "code",
   "execution_count": null,
   "metadata": {},
   "outputs": [],
   "source": [
    "for c_l in [[8,0], [10,1], [0,0], [13,3], [14,2], [9,4]]:\n",
    "    assert_card_valid(c_l)"
   ]
  },
  {
   "cell_type": "markdown",
   "metadata": {},
   "source": [
    "Write the function card_from_letters(c_s);  \n",
    "\n",
    "This function should make and return a c_l whose value and suit correspond to the c_s passed in. If the values passed in are invalid, you should print an error message and return."
   ]
  },
  {
   "cell_type": "code",
   "execution_count": null,
   "metadata": {},
   "outputs": [],
   "source": [
    "def card_from_letters(c_s):\n",
    "    "
   ]
  },
  {
   "cell_type": "markdown",
   "metadata": {},
   "source": [
    "Test you function:"
   ]
  },
  {
   "cell_type": "code",
   "execution_count": null,
   "metadata": {},
   "outputs": [],
   "source": [
    "for c_s in [\"8s\", \"Qh\", \"0c\", \"1d\", \"7e\", \"3h\"]:\n",
    "    c_l = card_from_letters(c_s)\n",
    "    print(c_l)"
   ]
  },
  {
   "cell_type": "markdown",
   "metadata": {},
   "source": [
    "Write the function card_from_num(c_n);\n",
    "\n",
    "This function should take a number from 0 (inclusive) to 52 (exclusive) and map it uniquely to a card value/suit combination. You must guarantee that each valid value/suit combination corresponds to exactly one input value in the range [0,52)."
   ]
  },
  {
   "cell_type": "code",
   "execution_count": null,
   "metadata": {},
   "outputs": [],
   "source": [
    "def card_from_num(c_n):\n",
    "    "
   ]
  },
  {
   "cell_type": "markdown",
   "metadata": {},
   "source": [
    "Test your function:"
   ]
  },
  {
   "cell_type": "code",
   "execution_count": null,
   "metadata": {},
   "outputs": [],
   "source": [
    "for c_n in [6, 23, 47, 52, 0, 12, 13]:\n",
    "    c_l = card_from_letters(c_n)\n",
    "    print(c_l)"
   ]
  },
  {
   "cell_type": "markdown",
   "metadata": {},
   "source": [
    "Write the print_card(c_l);\n",
    "\n",
    "This function should print out the textual representation of the card. It should print the value first, then the suit. For example:\n",
    "- As  (for Ace of spades)\n",
    "- 0d  (for 10 of diamonds)\n",
    "- Kc  (for King of clubs) etc.  \n",
    "\n",
    "This function should not print any additional spaces or newlines after the card's text. (hint: use end argument in print function)"
   ]
  },
  {
   "cell_type": "code",
   "execution_count": null,
   "metadata": {},
   "outputs": [],
   "source": [
    "def print_card(c_l):\n"
   ]
  }
 ],
 "metadata": {
  "interpreter": {
   "hash": "f761e40836371916778f6d290f70f71c9443070a9883ab531453e53ce81b51d8"
  },
  "kernelspec": {
   "display_name": "Python 3.8.8 64-bit ('base': conda)",
   "name": "python3"
  },
  "language_info": {
   "codemirror_mode": {
    "name": "ipython",
    "version": 3
   },
   "file_extension": ".py",
   "mimetype": "text/x-python",
   "name": "python",
   "nbconvert_exporter": "python",
   "pygments_lexer": "ipython3",
   "version": "3.8.8"
  },
  "orig_nbformat": 4
 },
 "nbformat": 4,
 "nbformat_minor": 2
}
