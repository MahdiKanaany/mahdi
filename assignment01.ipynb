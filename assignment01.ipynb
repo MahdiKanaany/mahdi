{
 "cells": [
  {
   "cell_type": "markdown",
   "id": "41c25e4d",
   "metadata": {},
   "source": [
    "# Assignment #1"
   ]
  },
  {
   "cell_type": "markdown",
   "id": "d9fe1fc8",
   "metadata": {},
   "source": [
    "What you need to do:\n",
    "1. [Fork](https://docs.github.com/en/get-started/quickstart/fork-a-repo) this repository to your own account\n",
    "2. [Clone](https://docs.github.com/en/github/creating-cloning-and-archiving-repositories/cloning-a-repository-from-github/cloning-a-repository) the forked repository to your personal computer\n",
    "3. Set your git credentials in your local computer\n",
    "\n",
    "    ```\n",
    "    git config --global user.name NAME\n",
    "    git config --global user.email 'EMAIL'\n",
    "    ```\n",
    "\n",
    "4. Do task 1 & 2 below\n",
    "5. Commit your changes to this file\n",
    "\n",
    "    ```\n",
    "    git add assignment01.ipynb\n",
    "    git commit -m '<your commit comment>'\n",
    "    ```\n",
    "\n",
    "6. Push your changes to github\n",
    "\n",
    "    ```\n",
    "    git push origin master\n",
    "    ```\n",
    "\n",
    "7. At your repository page (https://github.com/USERNAME/mahdi), create a [pull request](https://docs.github.com/en/github/collaborating-with-pull-requests/proposing-changes-to-your-work-with-pull-requests/creating-a-pull-request) to merge your notebook with the original repository mahmoudjahanshahi/mahdi to turn in the assignment."
   ]
  },
  {
   "cell_type": "markdown",
   "id": "e27c3a44",
   "metadata": {},
   "source": [
    "## Task 1\n",
    "Write a program to produce all prime numbers less than 1000"
   ]
  },
  {
   "cell_type": "code",
   "execution_count": null,
   "id": "082c1eab",
   "metadata": {},
   "outputs": [],
   "source": [
    "def is_prime1(n):\n",
    "    for i in range(2,n):\n",
    "        if(n%i==0):\n",
    "            return False\n",
    "    return True    "
   ]
  },
  {
   "cell_type": "code",
   "execution_count": null,
   "id": "18b3148e-3d9a-47db-8bf2-fafff5c37b2c",
   "metadata": {},
   "outputs": [],
   "source": [
    "def is_prime2(n):\n",
    "    for i in range(2,n//2+1):\n",
    "        if(n%i==0):\n",
    "            return False\n",
    "    return True    "
   ]
  },
  {
   "cell_type": "markdown",
   "id": "397a328c-35b2-4567-8041-257f77aca0de",
   "metadata": {},
   "source": [
    "Awesome! To see how much the change you made was helpful, we check the following code with two different implementations of is_prime function. Run the following cells and look at the time it takes to check 100k numbers."
   ]
  },
  {
   "cell_type": "code",
   "execution_count": null,
   "id": "1c66f4cf-e0af-4826-8290-c08afea2084c",
   "metadata": {},
   "outputs": [],
   "source": [
    "import time"
   ]
  },
  {
   "cell_type": "code",
   "execution_count": null,
   "id": "6ef348bf",
   "metadata": {},
   "outputs": [],
   "source": [
    "t1=time.time()\n",
    "prime_count = 0\n",
    "for i in range(1,100000):\n",
    "    if(is_prime1(i)):\n",
    "        prime_count+=1\n",
    "t2=time.time()\n",
    "elapsed= t2 - t1\n",
    "print(\"Total numer of primes: \",prime_count)\n",
    "print(\"Time elapsed: \",elapsed,\" seconds\")"
   ]
  },
  {
   "cell_type": "code",
   "execution_count": null,
   "id": "660bbf61-aa05-4ea6-8380-ba2ef35692e2",
   "metadata": {},
   "outputs": [],
   "source": [
    "t1=time.time()\n",
    "prime_count = 0\n",
    "for i in range(1,100000):\n",
    "    if(is_prime2(i)):\n",
    "        prime_count+=1\n",
    "t2=time.time()\n",
    "elapsed= t2 - t1\n",
    "print(\"Total numer of primes: \",prime_count)\n",
    "print(\"Time elapsed: \",elapsed,\" seconds\")"
   ]
  },
  {
   "cell_type": "markdown",
   "id": "cc07ec26-34a9-42dd-bfd0-96f77ab2dea5",
   "metadata": {},
   "source": [
    "As you can see, the time was reduced to half with the new implementation. It should be obvious why this is important. Great job!"
   ]
  },
  {
   "cell_type": "markdown",
   "id": "b044debe",
   "metadata": {},
   "source": [
    "## Task 2\n",
    "Write a program to produce Fibonacci numbers up to 1000000"
   ]
  },
  {
   "cell_type": "code",
   "execution_count": null,
   "id": "7c183085",
   "metadata": {},
   "outputs": [],
   "source": [
    "first = 0\n",
    "second = 1\n",
    "while(first<1000000):\n",
    "    print(first)\n",
    "    new = first + second\n",
    "    first = second\n",
    "    second = new"
   ]
  }
 ],
 "metadata": {
  "kernelspec": {
   "display_name": "Python 3",
   "language": "python",
   "name": "python3"
  },
  "language_info": {
   "codemirror_mode": {
    "name": "ipython",
    "version": 3
   },
   "file_extension": ".py",
   "mimetype": "text/x-python",
   "name": "python",
   "nbconvert_exporter": "python",
   "pygments_lexer": "ipython3",
   "version": "3.8.8"
  }
 },
 "nbformat": 4,
 "nbformat_minor": 5
}
