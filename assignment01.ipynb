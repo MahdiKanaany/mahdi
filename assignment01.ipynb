{
 "cells": [
  {
   "cell_type": "markdown",
   "metadata": {},
   "source": [
    "# Assignment #1"
   ]
  },
  {
   "cell_type": "markdown",
   "metadata": {},
   "source": [
    "What you need to do:\n",
    "1. [Fork](https://docs.github.com/en/get-started/quickstart/fork-a-repo) this repository to your own account\n",
    "2. [Clone](https://docs.github.com/en/github/creating-cloning-and-archiving-repositories/cloning-a-repository-from-github/cloning-a-repository) the forked repository to your personal computer\n",
    "3. Set your git credentials in your local computer\n",
    "\n",
    "    ```\n",
    "    git config --global user.name NAME\n",
    "    git config --global user.email 'EMAIL'\n",
    "    ```\n",
    "\n",
    "4. Do task 1 & 2 below\n",
    "5. Commit your changes to this file\n",
    "\n",
    "    ```\n",
    "    git add assignment01.ipynb\n",
    "    git commit -m '<your commit comment>'\n",
    "    ```\n",
    "\n",
    "6. Push your changes to github\n",
    "\n",
    "    ```\n",
    "    git push origin master\n",
    "    ```\n",
    "\n",
    "7. At your repository page (https://github.com/USERNAME/mahdi), create a [pull request](https://docs.github.com/en/github/collaborating-with-pull-requests/proposing-changes-to-your-work-with-pull-requests/creating-a-pull-request) to merge your notebook with the original repository mahmoudjahanshahi/mahdi to turn in the assignment."
   ]
  },
  {
   "cell_type": "markdown",
   "metadata": {},
   "source": [
    "## Task 1\n",
    "Write a program to produce all prime numbers less than 1000"
   ]
  },
  {
   "cell_type": "code",
   "execution_count": null,
   "metadata": {},
   "outputs": [],
   "source": [
    "def is_prime(n):\n",
    "    #there is no need cast \"n\" as integer\n",
    "    for i in range(2,n//2+1): #think about \"n\". Do you have to check all the numbers to \"n\"? Can you change it to a smaller value?\n",
    "        if(n%i==0):\n",
    "            return False\n",
    "        #when you return a function, the function will break completely and there is no need this break\n",
    "    return True    "
   ]
  },
  {
   "cell_type": "code",
   "execution_count": null,
   "metadata": {},
   "outputs": [],
   "source": [
    "for i in range(1,1000):\n",
    "    if(is_prime(i)):\n",
    "        print(i)"
   ]
  },
  {
   "cell_type": "markdown",
   "metadata": {},
   "source": [
    "## Task 2\n",
    "Write a program to produce Fibonacci numbers up to 1000000"
   ]
  },
  {
   "cell_type": "code",
   "execution_count": null,
   "metadata": {},
   "outputs": [],
   "source": [
    "first = 0 #fibonacci starts at 0\n",
    "second = 1\n",
    "while(first<1000000):\n",
    "    print(first)\n",
    "    new = first + second\n",
    "    first = second\n",
    "    second = new"
   ]
  }
 ],
 "metadata": {
  "kernelspec": {
   "display_name": "Python 3",
   "language": "python",
   "name": "python3"
  },
  "language_info": {
   "codemirror_mode": {
    "name": "ipython",
    "version": 3
   },
   "file_extension": ".py",
   "mimetype": "text/x-python",
   "name": "python",
   "nbconvert_exporter": "python",
   "pygments_lexer": "ipython3",
   "version": "3.8.5"
  }
 },
 "nbformat": 4,
 "nbformat_minor": 5
}
