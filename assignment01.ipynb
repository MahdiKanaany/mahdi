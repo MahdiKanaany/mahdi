{
 "cells": [
  {
   "cell_type": "markdown",
   "id": "457af125-1330-4f7d-8509-f96a8ae9daf6",
   "metadata": {},
   "source": [
    "# Assignment #1"
   ]
  },
  {
   "cell_type": "markdown",
   "id": "2c14af7b-f058-4c56-b67a-d2792e6071dd",
   "metadata": {},
   "source": [
    "What you need to do:\n",
    "1. [Fork](https://docs.github.com/en/get-started/quickstart/fork-a-repo) this repository to your own account\n",
    "2. [Clone](https://docs.github.com/en/github/creating-cloning-and-archiving-repositories/cloning-a-repository-from-github/cloning-a-repository) the forked repository to your personal computer\n",
    "3. Set your git credentials in your local computer\n",
    "\n",
    "```\n",
    "    git config --global user.name NAME\n",
    "    git config --global user.email 'EMAIL'\n",
    "```\n",
    "\n",
    "4. Do task 1 & 2 below\n",
    "5. Commit your changes to this file\n",
    "\n",
    "```\n",
    "    git add assignment01.ipynb\n",
    "    git commit -m '<your commit comment>'\n",
    "```\n",
    "\n",
    "6. Push your changes to github\n",
    "\n",
    "```\n",
    "    git push origin master\n",
    "```\n",
    "\n",
    "7. At your repository page (https://github.com/USERNAME/mahdi), create a [pull request](https://docs.github.com/en/github/collaborating-with-pull-requests/proposing-changes-to-your-work-with-pull-requests/creating-a-pull-request) to merge your notebook with the original repository mahmoudjahanshahi/mahdi to turn in the assignment."
   ]
  },
  {
   "cell_type": "markdown",
   "id": "7746a201-1c2e-4944-bfa8-ded541e4b541",
   "metadata": {},
   "source": [
    "## Task 1\n",
    "Write a program to produce all prime numbers less than 1000"
   ]
  },
  {
   "cell_type": "code",
   "execution_count": null,
   "id": "f66f0491-a27f-47ee-95d4-c7e80fdea63e",
   "metadata": {},
   "outputs": [],
   "source": []
  },
  {
   "cell_type": "markdown",
   "id": "47898d0c-ebac-4c0c-9755-c2421a087422",
   "metadata": {},
   "source": [
    "## Task 2\n",
    "Write a program to produce Fibonacci numbers up to 1000000"
   ]
  },
  {
   "cell_type": "code",
   "execution_count": null,
   "id": "d1c37cee-ded6-49f5-bdf1-2a6aedafebf7",
   "metadata": {},
   "outputs": [],
   "source": []
  }
 ],
 "metadata": {
  "kernelspec": {
   "display_name": "Python 3",
   "language": "python",
   "name": "python3"
  },
  "language_info": {
   "codemirror_mode": {
    "name": "ipython",
    "version": 3
   },
   "file_extension": ".py",
   "mimetype": "text/x-python",
   "name": "python",
   "nbconvert_exporter": "python",
   "pygments_lexer": "ipython3",
   "version": "3.8.8"
  }
 },
 "nbformat": 4,
 "nbformat_minor": 5
}
